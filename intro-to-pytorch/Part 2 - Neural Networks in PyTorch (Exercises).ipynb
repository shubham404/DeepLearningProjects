{
 "cells": [
  {
   "cell_type": "markdown",
   "metadata": {},
   "source": [
    "# Neural networks with PyTorch\n",
    "\n",
    "Deep learning networks tend to be massive with dozens or hundreds of layers, that's where the term \"deep\" comes from. You can build one of these deep networks using only weight matrices as we did in the previous notebook, but in general it's very cumbersome and difficult to implement. PyTorch has a nice module `nn` that provides a nice way to efficiently build large neural networks."
   ]
  },
  {
   "cell_type": "code",
   "execution_count": 1,
   "metadata": {},
   "outputs": [],
   "source": [
    "# Import necessary packages\n",
    "\n",
    "%matplotlib inline\n",
    "%config InlineBackend.figure_format = 'retina'\n",
    "\n",
    "import numpy as np\n",
    "import torch\n",
    "\n",
    "import helper\n",
    "\n",
    "import matplotlib.pyplot as plt"
   ]
  },
  {
   "cell_type": "markdown",
   "metadata": {},
   "source": [
    "\n",
    "Now we're going to build a larger network that can solve a (formerly) difficult problem, identifying text in an image. Here we'll use the MNIST dataset which consists of greyscale handwritten digits. Each image is 28x28 pixels, you can see a sample below\n",
    "\n",
    "<img src='assets/mnist.png'>\n",
    "\n",
    "Our goal is to build a neural network that can take one of these images and predict the digit in the image.\n",
    "\n",
    "First up, we need to get our dataset. This is provided through the `torchvision` package. The code below will download the MNIST dataset, then create training and test datasets for us. Don't worry too much about the details here, you'll learn more about this later."
   ]
  },
  {
   "cell_type": "code",
   "execution_count": 4,
   "metadata": {},
   "outputs": [],
   "source": [
    "### Run this cell\n",
    "\n",
    "from torchvision import datasets, transforms\n",
    "\n",
    "# Define a transform to normalize the data\n",
    "transform = transforms.Compose([transforms.ToTensor(),\n",
    "                              transforms.Normalize((0.5,), (0.5,)),\n",
    "                              ])\n",
    "\n",
    "# Download and load the training data\n",
    "trainset = datasets.MNIST('~/.pytorch/MNIST_data/', download=True, train=True, transform=transform)\n",
    "trainloader = torch.utils.data.DataLoader(trainset, batch_size=64, shuffle=True)"
   ]
  },
  {
   "cell_type": "markdown",
   "metadata": {},
   "source": [
    "We have the training data loaded into `trainloader` and we make that an iterator with `iter(trainloader)`. Later, we'll use this to loop through the dataset for training, like\n",
    "\n",
    "```python\n",
    "for image, label in trainloader:\n",
    "    ## do things with images and labels\n",
    "```\n",
    "\n",
    "You'll notice I created the `trainloader` with a batch size of 64, and `shuffle=True`. The batch size is the number of images we get in one iteration from the data loader and pass through our network, often called a *batch*. And `shuffle=True` tells it to shuffle the dataset every time we start going through the data loader again. But here I'm just grabbing the first batch so we can check out the data. We can see below that `images` is just a tensor with size `(64, 1, 28, 28)`. So, 64 images per batch, 1 color channel, and 28x28 images."
   ]
  },
  {
   "cell_type": "code",
   "execution_count": 7,
   "metadata": {
    "jupyter": {
     "outputs_hidden": true
    }
   },
   "outputs": [
    {
     "name": "stdout",
     "output_type": "stream",
     "text": [
      "<class 'torch.Tensor'>\n",
      "torch.Size([64, 1, 28, 28])\n",
      "torch.Size([64])\n"
     ]
    }
   ],
   "source": [
    "dataiter = iter(trainloader)\n",
    "images, labels = dataiter.next()\n",
    "print(type(images))\n",
    "print(images.shape)\n",
    "print(labels.shape)"
   ]
  },
  {
   "cell_type": "markdown",
   "metadata": {},
   "source": [
    "This is what one of the images looks like. "
   ]
  },
  {
   "cell_type": "code",
   "execution_count": 8,
   "metadata": {
    "jupyter": {
     "outputs_hidden": true
    }
   },
   "outputs": [
    {
     "data": {
      "image/png": "[encoded data removed]",
      "text/plain": [
       "<Figure size 432x288 with 1 Axes>"
      ]
     },
     "metadata": {
      "image/png": {
       "height": 248,
       "width": 251
      },
      "needs_background": "light"
     },
     "output_type": "display_data"
    }
   ],
   "source": [
    "plt.imshow(images[1].numpy().squeeze(), cmap='Greys_r');"
   ]
  },
  {
   "cell_type": "markdown",
   "metadata": {},
   "source": [
    "First, let's try to build a simple network for this dataset using weight matrices and matrix multiplications. Then, we'll see how to do it using PyTorch's `nn` module which provides a much more convenient and powerful method for defining network architectures.\n",
    "\n",
    "The networks you've seen so far are called *fully-connected* or *dense* networks. Each unit in one layer is connected to each unit in the next layer. In fully-connected networks, the input to each layer must be a one-dimensional vector (which can be stacked into a 2D tensor as a batch of multiple examples). However, our images are 28x28 2D tensors, so we need to convert them into 1D vectors. Thinking about sizes, we need to convert the batch of images with shape `(64, 1, 28, 28)` to a have a shape of `(64, 784)`, 784 is 28 times 28. This is typically called *flattening*, we flattened the 2D images into 1D vectors.\n",
    "\n",
    "Previously you built a network with one output unit. Here we need 10 output units, one for each digit. We want our network to predict the digit shown in an image, so what we'll do is calculate probabilities that the image is of any one digit or class. This ends up being a discrete probability distribution over the classes (digits) that tells us the most likely class for the image. That means we need 10 output units for the 10 classes (digits). We'll see how to convert the network output into a probability distribution next.\n",
    "\n",
    "> **Exercise:** Flatten the batch of images `images`. Then build a multi-layer network with 784 input units, 256 hidden units, and 10 output units using random tensors for the weights and biases. For now, use a sigmoid activation for the hidden layer. Leave the output layer without an activation, we'll add one that gives us a probability distribution next."
   ]
  },
  {
   "cell_type": "code",
   "execution_count": 13,
   "metadata": {
    "jupyter": {
     "outputs_hidden": true
    }
   },
   "outputs": [
    {
     "name": "stdout",
     "output_type": "stream",
     "text": [
      "torch.Size([64, 10])\n"
     ]
    },
    {
     "data": {
      "text/plain": [
       "tensor([[-7.6672e+00,  1.0178e+01, -3.5671e+00, -1.0571e+01,  3.1465e+00,\n",
       "         -1.1818e+01, -2.3578e+01, -2.3798e+01,  4.2675e+00,  7.1620e+00],\n",
       "        [-7.1015e+00,  1.4278e+01, -1.9356e+01, -6.9758e-01, -5.4074e+00,\n",
       "         -4.4781e+00, -2.8285e+01, -1.3390e+01,  3.3902e+00, -5.6067e+00],\n",
       "        [-1.0394e+01,  9.3865e+00, -8.9554e+00, -1.0720e+01,  4.6518e+00,\n",
       "         -1.0680e+01, -2.1280e+01, -2.1582e+01,  3.2708e+00,  7.3456e+00],\n",
       "        [-7.2714e+00,  1.2863e+01, -1.0216e+01, -1.2999e+01, -4.6344e+00,\n",
       "          1.4860e+00, -6.9277e+00, -1.4986e+01,  5.3733e+00,  3.3941e+00],\n",
       "        [-1.3089e+01, -3.8847e+00, -9.3526e+00, -1.4620e+01,  7.0830e-01,\n",
       "         -7.1724e+00, -2.2187e+01, -8.6083e+00,  1.0707e+01, -8.8914e+00],\n",
       "        [-8.3870e+00,  7.6072e+00, -3.4809e+00, -3.7057e+00, -8.9907e+00,\n",
       "         -1.0219e+01, -2.2972e+01, -2.2016e+01,  2.0612e+00,  4.0304e+00],\n",
       "        [-2.0000e+01,  5.0840e+00,  6.8840e-02, -6.0532e+00, -6.4631e+00,\n",
       "         -1.5595e+00, -2.7183e+01, -2.7414e+01,  3.7093e+00,  3.7362e+00],\n",
       "        [-1.0900e+01,  9.9986e+00, -7.1370e+00, -6.2250e+00, -2.1742e+00,\n",
       "         -1.3167e+01, -1.3780e+01, -2.2742e+01, -2.5161e+00,  6.3966e+00],\n",
       "        [-1.7137e+01,  1.6971e+01, -1.1633e+01, -1.3466e+01, -3.9102e+00,\n",
       "         -4.2500e+00, -1.4681e+01, -1.7201e+01, -4.4250e-01,  7.7968e+00],\n",
       "        [-1.4374e+01,  6.5170e+00, -1.4887e+01, -1.1522e+01, -6.8850e+00,\n",
       "         -2.1516e+00, -1.3739e+01, -1.1522e+01,  9.8222e-01,  3.8831e+00],\n",
       "        [-1.0732e+01,  1.3791e+01, -1.0491e+01, -3.8147e+00, -2.9961e+00,\n",
       "         -6.9742e+00, -2.6212e+01, -6.2334e+00,  3.5374e+00, -6.0220e+00],\n",
       "        [-9.5543e+00,  1.2698e+01, -9.1041e+00, -8.0874e+00,  4.1575e+00,\n",
       "         -1.0298e+01, -1.9111e+01, -2.5712e+01,  1.0731e+01,  7.8234e+00],\n",
       "        [-1.7463e+01,  8.7595e+00, -8.9034e+00, -4.0567e+00, -6.5585e+00,\n",
       "         -7.1452e+00, -2.0770e+01, -2.3312e+01, -2.2558e+00,  3.1658e-01],\n",
       "        [-1.2030e+01,  1.5694e+01, -1.3071e+01, -6.5946e+00, -1.0789e+01,\n",
       "         -5.1875e+00, -2.7648e+01, -2.0110e+01,  2.9986e-01,  6.5951e+00],\n",
       "        [-2.2152e+01,  1.1339e+01, -8.1904e+00, -5.3830e+00,  1.0628e+00,\n",
       "         -1.1529e+01, -1.2279e+01, -1.8713e+01,  2.7386e+00,  4.6563e+00],\n",
       "        [-8.0725e+00,  1.0269e+01, -3.2253e+00, -1.7109e+01,  4.4113e+00,\n",
       "          3.2470e+00, -2.4286e+01, -1.7188e+01,  1.0129e+01, -7.1332e+00],\n",
       "        [-1.1297e+01,  7.7949e+00, -1.0115e+01, -1.2697e+01, -2.0753e+00,\n",
       "         -7.2394e+00, -2.5439e+01, -8.5521e+00,  1.2009e+01, -9.1126e+00],\n",
       "        [ 2.6144e+00, -3.8872e+00,  4.0378e-01, -1.1575e+01,  1.0630e+01,\n",
       "          1.8959e+00, -1.1001e+01, -1.7472e+01,  1.2706e+01, -6.5258e+00],\n",
       "        [-2.8380e+00,  2.3027e+01,  6.5033e-01, -1.2733e+01,  3.1036e+00,\n",
       "         -1.1975e+01, -2.4623e+01, -2.0502e+01,  6.6201e+00, -5.1241e+00],\n",
       "        [-1.1601e+01,  1.3583e+01, -7.1526e+00, -8.8729e+00,  8.9689e+00,\n",
       "         -6.0420e+00, -1.4553e+01, -2.0226e+01,  1.2809e+01, -6.9875e-02],\n",
       "        [-1.1078e+01,  9.1170e+00, -8.0198e+00, -4.9818e+00,  4.3846e+00,\n",
       "         -7.4334e+00, -1.3218e+01, -1.5025e+01,  1.3000e+01, -5.2046e+00],\n",
       "        [-9.3826e+00, -1.5716e+00, -7.3358e+00, -1.0832e+01, -2.8557e+00,\n",
       "         -9.1450e+00, -1.9740e+01, -1.7625e+01,  2.5402e+00,  3.6415e+00],\n",
       "        [-9.1652e+00,  1.3867e+01, -7.6781e+00, -7.7858e+00, -2.3846e+00,\n",
       "         -8.9596e+00, -1.9681e+01, -2.3744e+01,  1.3347e+01,  3.5680e+00],\n",
       "        [-5.6227e+00,  1.2228e+01, -1.2278e+00, -1.7542e+00,  5.7183e+00,\n",
       "         -1.0029e+01, -8.6581e+00, -2.1095e+01,  5.4895e+00,  6.7408e+00],\n",
       "        [-3.1739e+00,  8.5522e+00, -1.0585e+01, -8.8802e+00, -9.5065e-01,\n",
       "          2.1044e+00, -1.3962e+01, -1.3953e+01,  5.4795e+00,  1.1119e+00],\n",
       "        [-9.3558e+00,  1.6198e+01, -1.5951e+01, -8.9189e+00, -4.2164e-01,\n",
       "         -8.5479e-01, -1.9396e+01, -1.1711e+01, -3.1990e+00,  9.4665e-01],\n",
       "        [ 2.0854e+00,  1.0901e+01, -1.0615e+01, -1.0157e+01,  3.2949e+00,\n",
       "         -4.0378e+00, -1.7402e+01, -1.0267e+01,  6.3033e+00,  2.7908e+00],\n",
       "        [-6.3326e+00,  5.1696e+00, -2.4044e+00, -5.3287e+00, -4.3483e+00,\n",
       "         -1.3731e+01, -2.2329e+01, -1.6141e+01,  7.1669e+00,  8.7956e-01],\n",
       "        [-4.1047e+00, -5.5051e+00, -1.2554e+01, -2.9845e+00,  2.1764e+00,\n",
       "         -4.0348e+00, -1.9082e+01, -2.2840e+01, -6.7144e-01, -1.2375e+00],\n",
       "        [-9.1184e+00, -3.3607e-01, -1.0254e+01,  3.8037e+00, -6.7378e+00,\n",
       "         -3.9096e+00, -1.3623e+01, -1.8191e+01,  1.7304e+00, -3.8043e+00],\n",
       "        [-4.7723e+00,  6.1970e+00, -9.5426e+00, -1.7905e+01,  3.6607e+00,\n",
       "         -1.8594e+00, -7.3451e+00, -1.9985e+01,  1.1901e+01,  1.0783e+00],\n",
       "        [ 4.4131e+00,  9.4843e+00, -9.0921e+00, -1.3581e+01,  7.8548e-01,\n",
       "          1.9385e+00, -2.5804e+01, -1.8969e+01,  1.0091e+01, -3.0601e+00],\n",
       "        [-5.0177e+00,  1.0325e+01, -7.4169e-01, -2.4805e+01,  9.0275e+00,\n",
       "         -7.7057e+00, -9.4534e+00, -1.2964e+01,  1.5109e+01,  1.8309e+00],\n",
       "        [-1.0229e+01,  9.8326e+00, -2.3561e+00, -7.6622e+00, -8.8592e+00,\n",
       "         -8.8622e+00, -1.2596e+01, -1.4009e+01,  1.9113e+00, -1.5641e+00],\n",
       "        [-1.9411e+01,  5.1489e+00, -1.4349e+01, -8.7316e+00,  7.8708e+00,\n",
       "          1.1042e+00, -1.2074e+01, -1.6560e+01,  8.8544e+00,  3.1522e+00],\n",
       "        [-1.2146e+01,  1.2196e+01, -1.0238e+01, -4.0705e+00,  3.7514e+00,\n",
       "         -5.3446e+00, -1.4510e+01, -2.2492e+01,  6.0529e+00,  8.3919e+00],\n",
       "        [-1.1614e+01,  1.3022e+01, -1.0283e+01, -5.5492e-01,  1.7188e+00,\n",
       "         -7.1985e+00, -1.7566e+01, -1.7069e+01,  1.1947e+01,  2.4857e+00],\n",
       "        [-1.4687e+01,  9.9339e+00, -7.7381e+00, -5.0067e+00,  7.4174e-01,\n",
       "         -5.0170e+00, -1.9300e+01, -1.5166e+01, -2.9442e+00,  7.4476e+00],\n",
       "        [-4.1020e+00,  8.6884e+00, -1.4882e+00, -1.7703e+01,  5.4754e+00,\n",
       "          2.3989e-01, -2.5913e+01, -1.8425e+01,  7.2105e+00,  2.7455e+00],\n",
       "        [-1.3691e+01,  1.3540e+01, -8.0137e+00, -7.7238e+00, -8.6345e+00,\n",
       "         -9.6316e+00, -6.4392e+00, -1.5906e+01, -2.6103e+00, -6.7324e+00],\n",
       "        [-8.5178e+00,  1.2196e+01, -1.1498e+01, -9.3492e+00, -2.5690e+00,\n",
       "          1.0187e+00, -2.2137e+01, -2.0776e+01,  1.4152e+01, -2.5890e+00],\n",
       "        [-4.7797e-01,  8.7779e+00, -1.5401e+01, -1.2998e+01, -1.8091e+00,\n",
       "         -2.0729e-01, -1.0180e+01, -1.0124e+01,  6.7402e+00, -2.9388e+00],\n",
       "        [-9.6520e+00,  6.8620e+00, -5.2376e+00, -1.1516e+01,  7.2963e+00,\n",
       "         -6.8673e+00, -2.1995e+01, -3.3101e+01,  3.7645e+00,  5.1611e+00],\n",
       "        [-1.1461e+01,  8.9436e+00, -2.6352e+00, -1.4281e+01,  4.1534e+00,\n",
       "          1.5130e+00, -2.7240e+01, -2.8539e+01, -1.6411e-01,  7.0374e+00],\n",
       "        [-3.7235e+00,  1.4410e+00, -6.5422e+00, -1.2027e+01,  1.8564e-03,\n",
       "         -1.2181e+01, -7.2406e+00, -1.6782e+01,  6.2644e+00, -4.6400e+00],\n",
       "        [-2.9941e+00,  7.7602e+00, -1.5363e+01, -4.7428e+00, -1.0875e+01,\n",
       "         -5.9630e-01, -2.4729e+01, -1.3134e+01,  5.5189e+00,  9.5726e+00],\n",
       "        [-7.9983e+00,  7.3560e+00, -7.5102e+00, -8.0843e+00, -2.7633e+00,\n",
       "         -7.2836e+00, -1.4377e+01, -2.2789e+01,  5.8440e+00,  4.7583e+00],\n",
       "        [-8.9472e+00,  9.7960e+00, -1.2619e+00, -1.6409e+01,  1.2962e+00,\n",
       "         -7.9536e+00, -1.8596e+01, -1.9849e+01,  8.8713e+00, -3.5757e-01],\n",
       "        [-1.4628e+01,  1.0183e+01, -3.8567e+00,  1.5662e+00, -5.2917e+00,\n",
       "         -9.6134e+00, -1.7889e+01, -1.3556e+01, -1.0343e+01,  7.4334e+00],\n",
       "        [-9.2624e+00,  1.8163e+01, -1.4282e+01, -1.2941e+01,  4.8415e+00,\n",
       "         -7.7511e+00, -1.5594e+01, -2.0720e+01, -1.0984e+00,  6.5670e+00],\n",
       "        [-1.0355e+01,  1.5565e+01, -4.1007e+00, -1.0216e+01,  3.3578e+00,\n",
       "         -1.1152e+01, -1.7486e+01, -2.1501e+01,  1.1368e+01,  3.8802e+00],\n",
       "        [-1.2028e+01,  1.2157e+01, -3.5728e+00, -4.2768e+00, -2.9704e+00,\n",
       "         -3.1566e+00, -2.2176e+01, -1.7722e+01, -5.0018e-01,  3.6584e+00],\n",
       "        [-1.3488e+01,  8.0141e+00,  4.6482e-01, -1.1254e+01,  6.5699e+00,\n",
       "         -1.2956e+01, -9.2527e+00, -2.5415e+01,  7.4208e+00,  5.4235e+00],\n",
       "        [-9.5717e+00,  1.2042e+01, -1.0113e+01, -1.4669e+00, -3.3950e+00,\n",
       "          1.5707e+00, -1.7594e+01, -1.4660e+01,  4.3387e+00,  3.5861e+00],\n",
       "        [ 6.3791e-01,  7.0206e+00, -5.7952e+00, -7.0137e+00,  2.7739e-01,\n",
       "         -3.9855e+00, -2.1138e+01, -2.1253e+01,  4.3313e-01,  5.6518e+00],\n",
       "        [-1.0183e+01,  7.9339e+00,  2.1061e+00, -1.2381e+01,  8.9693e-01,\n",
       "         -9.2018e+00, -1.6282e+01, -2.0896e+01,  9.4702e+00, -9.0440e+00],\n",
       "        [-1.0783e+01,  6.4740e+00, -3.8565e+00, -1.6177e+01,  2.4904e+00,\n",
       "         -5.9374e+00, -1.8541e+01, -2.0285e+01,  1.3008e+01,  3.5584e+00],\n",
       "        [-1.1701e+01,  1.5314e+01, -6.8277e+00, -1.7328e+00, -6.0037e+00,\n",
       "         -9.2706e+00, -2.7608e+01, -1.3462e+01, -6.9222e-03,  3.8629e+00],\n",
       "        [-1.3893e+01,  3.3808e+00, -1.0421e+01, -7.3198e+00,  7.7526e+00,\n",
       "         -7.0322e+00, -1.1821e+01, -2.2679e+01, -2.3029e+00, -6.3470e+00],\n",
       "        [-1.4510e+01,  1.2795e+01, -1.1412e+01, -6.8393e+00,  3.5631e+00,\n",
       "         -3.2499e+00, -1.8690e+01, -1.9665e+01,  1.2908e+01, -3.4543e-01],\n",
       "        [-8.1397e+00,  4.6025e+00, -1.0837e+01, -3.6708e+00,  4.9285e+00,\n",
       "         -7.4961e+00, -2.8060e+01, -1.3142e+01,  6.0737e+00,  3.1963e+00],\n",
       "        [-1.6383e+01,  9.4550e+00,  4.6853e+00, -1.2431e+01, -2.1515e-01,\n",
       "         -6.2119e+00, -2.5844e+01, -2.3894e+01,  7.5148e+00,  1.0108e+01],\n",
       "        [-1.0938e+01,  5.2642e+00, -5.4317e+00, -1.2339e+01,  1.2567e+00,\n",
       "          2.0865e+00, -1.4565e+01, -2.7823e+01,  8.0850e+00,  8.6671e+00],\n",
       "        [ 1.3431e-01,  9.8510e+00, -2.7994e+00, -1.2159e+01,  1.0363e+01,\n",
       "         -1.1022e+01, -1.1237e+01, -1.7636e+01,  1.1344e+01, -7.9294e+00]])"
      ]
     },
     "execution_count": 13,
     "metadata": {},
     "output_type": "execute_result"
    }
   ],
   "source": [
    "## Solution\n",
    "def activation(x):\n",
    "    return 1/(1+torch.exp(-x))\n",
    "\n",
    "# Flatten the input images\n",
    "inputs = images.view(images.shape[0], -1)\n",
    "\n",
    "#print(images.shape[0])\n",
    "# Create parameters\n",
    "w1 = torch.randn(784, 256)\n",
    "b1 = torch.randn(256)\n",
    "\n",
    "w2 = torch.randn(256, 10)\n",
    "b2 = torch.randn(10)\n",
    "\n",
    "h = activation(torch.mm(inputs, w1) + b1)\n",
    "\n",
    "out = torch.mm(h, w2) + b2\n",
    "print(out.shape)\n",
    "out"
   ]
  },
  {
   "cell_type": "markdown",
   "metadata": {},
   "source": [
    "Now we have 10 outputs for our network. We want to pass in an image to our network and get out a probability distribution over the classes that tells us the likely class(es) the image belongs to. Something that looks like this:\n",
    "<img src='assets/image_distribution.png' width=500px>\n",
    "\n",
    "Here we see that the probability for each class is roughly the same. This is representing an untrained network, it hasn't seen any data yet so it just returns a uniform distribution with equal probabilities for each class.\n",
    "\n",
    "To calculate this probability distribution, we often use the [**softmax** function](https://en.wikipedia.org/wiki/Softmax_function). Mathematically this looks like\n",
    "\n",
    "$$\n",
    "\\Large \\sigma(x_i) = \\cfrac{e^{x_i}}{\\sum_k^K{e^{x_k}}}\n",
    "$$\n",
    "\n",
    "What this does is squish each input $x_i$ between 0 and 1 and normalizes the values to give you a proper probability distribution where the probabilites sum up to one.\n",
    "\n",
    "> **Exercise:** Implement a function `softmax` that performs the softmax calculation and returns probability distributions for each example in the batch. Note that you'll need to pay attention to the shapes when doing this. If you have a tensor `a` with shape `(64, 10)` and a tensor `b` with shape `(64,)`, doing `a/b` will give you an error because PyTorch will try to do the division across the columns (called broadcasting) but you'll get a size mismatch. The way to think about this is for each of the 64 examples, you only want to divide by one value, the sum in the denominator. So you need `b` to have a shape of `(64, 1)`. This way PyTorch will divide the 10 values in each row of `a` by the one value in each row of `b`. Pay attention to how you take the sum as well. You'll need to define the `dim` keyword in `torch.sum`. Setting `dim=0` takes the sum across the rows while `dim=1` takes the sum across the columns."
   ]
  },
  {
   "cell_type": "code",
   "execution_count": 17,
   "metadata": {
    "jupyter": {
     "outputs_hidden": true
    }
   },
   "outputs": [
    {
     "name": "stdout",
     "output_type": "stream",
     "text": [
      "here is the testeing part\n",
      "tensor([2.7712e+04, 1.5882e+06, 1.3606e+04, 3.8597e+05, 4.4675e+04, 2.0769e+03,\n",
      "        2.4547e+02, 2.2596e+04, 2.3467e+07, 7.2793e+02, 9.7574e+05, 3.7539e+05,\n",
      "        6.3726e+03, 6.5414e+06, 8.4146e+04, 5.4001e+04, 1.6672e+05, 3.7100e+05,\n",
      "        1.0011e+10, 1.1659e+06, 4.5162e+05, 5.1096e+01, 1.6789e+06, 2.0584e+05,\n",
      "        5.4297e+03, 1.0830e+07, 5.4834e+04, 1.4742e+03, 9.7040e+00, 5.1269e+01,\n",
      "        1.4801e+05, 3.7368e+04, 3.6846e+06, 1.8639e+04, 9.8234e+03, 2.0288e+05,\n",
      "        6.0676e+05, 2.2336e+04, 7.5433e+03, 7.5908e+05, 1.5981e+06, 7.3367e+03,\n",
      "        2.6476e+03, 8.8663e+03, 5.3078e+02, 1.6961e+04, 2.0273e+03, 2.5091e+04,\n",
      "        2.8151e+04, 7.7288e+07, 5.8406e+06, 1.9051e+05, 5.6352e+03, 1.6981e+05,\n",
      "        1.4090e+03, 1.5769e+04, 4.4660e+05, 4.4762e+06, 2.3571e+03, 7.6378e+05,\n",
      "        6.9664e+02, 3.9259e+04, 9.2588e+03, 1.3506e+05])\n",
      "tensor([[2.7712e+04],\n",
      "        [1.5882e+06],\n",
      "        [1.3606e+04],\n",
      "        [3.8597e+05],\n",
      "        [4.4675e+04],\n",
      "        [2.0769e+03],\n",
      "        [2.4547e+02],\n",
      "        [2.2596e+04],\n",
      "        [2.3467e+07],\n",
      "        [7.2793e+02],\n",
      "        [9.7574e+05],\n",
      "        [3.7539e+05],\n",
      "        [6.3726e+03],\n",
      "        [6.5414e+06],\n",
      "        [8.4146e+04],\n",
      "        [5.4001e+04],\n",
      "        [1.6672e+05],\n",
      "        [3.7100e+05],\n",
      "        [1.0011e+10],\n",
      "        [1.1659e+06],\n",
      "        [4.5162e+05],\n",
      "        [5.1096e+01],\n",
      "        [1.6789e+06],\n",
      "        [2.0584e+05],\n",
      "        [5.4297e+03],\n",
      "        [1.0830e+07],\n",
      "        [5.4834e+04],\n",
      "        [1.4742e+03],\n",
      "        [9.7040e+00],\n",
      "        [5.1269e+01],\n",
      "        [1.4801e+05],\n",
      "        [3.7368e+04],\n",
      "        [3.6846e+06],\n",
      "        [1.8639e+04],\n",
      "        [9.8234e+03],\n",
      "        [2.0288e+05],\n",
      "        [6.0676e+05],\n",
      "        [2.2336e+04],\n",
      "        [7.5433e+03],\n",
      "        [7.5908e+05],\n",
      "        [1.5981e+06],\n",
      "        [7.3367e+03],\n",
      "        [2.6476e+03],\n",
      "        [8.8663e+03],\n",
      "        [5.3078e+02],\n",
      "        [1.6961e+04],\n",
      "        [2.0273e+03],\n",
      "        [2.5091e+04],\n",
      "        [2.8151e+04],\n",
      "        [7.7288e+07],\n",
      "        [5.8406e+06],\n",
      "        [1.9051e+05],\n",
      "        [5.6352e+03],\n",
      "        [1.6981e+05],\n",
      "        [1.4090e+03],\n",
      "        [1.5769e+04],\n",
      "        [4.4660e+05],\n",
      "        [4.4762e+06],\n",
      "        [2.3571e+03],\n",
      "        [7.6378e+05],\n",
      "        [6.9664e+02],\n",
      "        [3.9259e+04],\n",
      "        [9.2588e+03],\n",
      "        [1.3506e+05]])\n",
      "torch.Size([64, 1])\n",
      "here testing part ends\n",
      "torch.Size([64, 10])\n",
      "tensor([1.0000, 1.0000, 1.0000, 1.0000, 1.0000, 1.0000, 1.0000, 1.0000, 1.0000,\n",
      "        1.0000, 1.0000, 1.0000, 1.0000, 1.0000, 1.0000, 1.0000, 1.0000, 1.0000,\n",
      "        1.0000, 1.0000, 1.0000, 1.0000, 1.0000, 1.0000, 1.0000, 1.0000, 1.0000,\n",
      "        1.0000, 1.0000, 1.0000, 1.0000, 1.0000, 1.0000, 1.0000, 1.0000, 1.0000,\n",
      "        1.0000, 1.0000, 1.0000, 1.0000, 1.0000, 1.0000, 1.0000, 1.0000, 1.0000,\n",
      "        1.0000, 1.0000, 1.0000, 1.0000, 1.0000, 1.0000, 1.0000, 1.0000, 1.0000,\n",
      "        1.0000, 1.0000, 1.0000, 1.0000, 1.0000, 1.0000, 1.0000, 1.0000, 1.0000,\n",
      "        1.0000])\n"
     ]
    }
   ],
   "source": [
    "## Solution\n",
    "def softmax(x):\n",
    "    return torch.exp(x)/torch.sum(torch.exp(x), dim=1).view(-1, 1)\n",
    "\n",
    "#input to softmax is x which is 64*10 . now torch.exp(x) is 64*10 tensor.\n",
    "#now torch.sum(torch.exp(x), dim=1) is 1d tesnor with 64 units . \n",
    "\n",
    "#now if we divide 64*10 with a vector of 64, it will try to divide all values in 64*10 with all 64 values in vector.  so we reshape the vector such that it has only one value for one row. \n",
    "#so result would be a 64*64 tensor, which is incorrect. we want a 64*1 output.\n",
    "\n",
    "#hence we do -  .view(-1,1) which means it will contain only one one value for each row, and the rest\n",
    "#will be arramged and matched as per the row size left.\n",
    "\n",
    "#final output from softmax is then 64*10 tensor. where each row probabilities adds to 1 .\n",
    "\n",
    "print(\"here is the testeing part\")\n",
    "print(torch.sum(torch.exp(out), dim=1))\n",
    "print(torch.sum(torch.exp(out), dim=1).view(-1, 1))\n",
    "print(torch.sum(torch.exp(out), dim=1).view(-1, 1).shape)\n",
    "\n",
    "print(\"here testing part ends\")\n",
    "probabilities = softmax(out)\n",
    "\n",
    "# Does it have the right shape? Should be (64, 10)\n",
    "print(probabilities.shape)\n",
    "# Does it sum to 1?\n",
    "print(probabilities.sum(dim=1))"
   ]
  },
  {
   "cell_type": "markdown",
   "metadata": {},
   "source": [
    "## Building networks with PyTorch\n",
    "\n",
    "PyTorch provides a module `nn` that makes building networks much simpler. Here I'll show you how to build the same one as above with 784 inputs, 256 hidden units, 10 output units and a softmax output."
   ]
  },
  {
   "cell_type": "code",
   "execution_count": 18,
   "metadata": {
    "jupyter": {
     "outputs_hidden": true
    }
   },
   "outputs": [],
   "source": [
    "from torch import nn"
   ]
  },
  {
   "cell_type": "code",
   "execution_count": 19,
   "metadata": {
    "jupyter": {
     "outputs_hidden": true
    }
   },
   "outputs": [],
   "source": [
    "class Network(nn.Module):\n",
    "    def __init__(self):\n",
    "        super().__init__()\n",
    "        \n",
    "        # Inputs to hidden layer linear transformation\n",
    "        self.hidden = nn.Linear(784, 256)\n",
    "        # Output layer, 10 units - one for each digit\n",
    "        self.output = nn.Linear(256, 10)\n",
    "        \n",
    "        # Define sigmoid activation and softmax output \n",
    "        self.sigmoid = nn.Sigmoid()\n",
    "        self.softmax = nn.Softmax(dim=1)\n",
    "        \n",
    "    def forward(self, x):\n",
    "        # Pass the input tensor through each of our operations\n",
    "        x = self.hidden(x)\n",
    "        x = self.sigmoid(x)\n",
    "        x = self.output(x)\n",
    "        x = self.softmax(x)\n",
    "        \n",
    "        return x"
   ]
  },
  {
   "cell_type": "markdown",
   "metadata": {},
   "source": [
    "Let's go through this bit by bit.\n",
    "\n",
    "```python\n",
    "class Network(nn.Module):\n",
    "```\n",
    "\n",
    "Here we're inheriting from `nn.Module`. Combined with `super().__init__()` this creates a class that tracks the architecture and provides a lot of useful methods and attributes. It is mandatory to inherit from `nn.Module` when you're creating a class for your network. The name of the class itself can be anything.\n",
    "\n",
    "```python\n",
    "self.hidden = nn.Linear(784, 256)\n",
    "```\n",
    "\n",
    "This line creates a module for a linear transformation, $x\\mathbf{W} + b$, with 784 inputs and 256 outputs and assigns it to `self.hidden`. The module automatically creates the weight and bias tensors which we'll use in the `forward` method. You can access the weight and bias tensors once the network (`net`) is created with `net.hidden.weight` and `net.hidden.bias`.\n",
    "\n",
    "```python\n",
    "self.output = nn.Linear(256, 10)\n",
    "```\n",
    "\n",
    "Similarly, this creates another linear transformation with 256 inputs and 10 outputs.\n",
    "\n",
    "```python\n",
    "self.sigmoid = nn.Sigmoid()\n",
    "self.softmax = nn.Softmax(dim=1)\n",
    "```\n",
    "\n",
    "Here I defined operations for the sigmoid activation and softmax output. Setting `dim=1` in `nn.Softmax(dim=1)` calculates softmax across the columns.\n",
    "\n",
    "```python\n",
    "def forward(self, x):\n",
    "```\n",
    "\n",
    "PyTorch networks created with `nn.Module` must have a `forward` method defined. It takes in a tensor `x` and passes it through the operations you defined in the `__init__` method.\n",
    "\n",
    "```python\n",
    "x = self.hidden(x)\n",
    "x = self.sigmoid(x)\n",
    "x = self.output(x)\n",
    "x = self.softmax(x)\n",
    "```\n",
    "\n",
    "Here the input tensor `x` is passed through each operation and reassigned to `x`. We can see that the input tensor goes through the hidden layer, then a sigmoid function, then the output layer, and finally the softmax function. It doesn't matter what you name the variables here, as long as the inputs and outputs of the operations match the network architecture you want to build. The order in which you define things in the `__init__` method doesn't matter, but you'll need to sequence the operations correctly in the `forward` method.\n",
    "\n",
    "Now we can create a `Network` object."
   ]
  },
  {
   "cell_type": "code",
   "execution_count": 20,
   "metadata": {
    "jupyter": {
     "outputs_hidden": true
    }
   },
   "outputs": [
    {
     "data": {
      "text/plain": [
       "Network(\n",
       "  (hidden): Linear(in_features=784, out_features=256, bias=True)\n",
       "  (output): Linear(in_features=256, out_features=10, bias=True)\n",
       "  (sigmoid): Sigmoid()\n",
       "  (softmax): Softmax(dim=1)\n",
       ")"
      ]
     },
     "execution_count": 20,
     "metadata": {},
     "output_type": "execute_result"
    }
   ],
   "source": [
    "# Create the network and look at it's text representation\n",
    "model = Network()\n",
    "model"
   ]
  },
  {
   "cell_type": "markdown",
   "metadata": {},
   "source": [
    "You can define the network somewhat more concisely and clearly using the `torch.nn.functional` module. This is the most common way you'll see networks defined as many operations are simple element-wise functions. We normally import this module as `F`, `import torch.nn.functional as F`."
   ]
  },
  {
   "cell_type": "code",
   "execution_count": 21,
   "metadata": {
    "jupyter": {
     "outputs_hidden": true
    }
   },
   "outputs": [
    {
     "data": {
      "text/plain": [
       "Network(\n",
       "  (hidden): Linear(in_features=784, out_features=256, bias=True)\n",
       "  (output): Linear(in_features=256, out_features=10, bias=True)\n",
       ")"
      ]
     },
     "execution_count": 21,
     "metadata": {},
     "output_type": "execute_result"
    }
   ],
   "source": [
    "import torch.nn.functional as F\n",
    "\n",
    "class Network(nn.Module):\n",
    "    def __init__(self):\n",
    "        super().__init__()\n",
    "        # Inputs to hidden layer linear transformation\n",
    "        self.hidden = nn.Linear(784, 256)\n",
    "        # Output layer, 10 units - one for each digit\n",
    "        self.output = nn.Linear(256, 10)\n",
    "        \n",
    "    def forward(self, x):\n",
    "        # Hidden layer with sigmoid activation\n",
    "        x = F.sigmoid(self.hidden(x))\n",
    "        # Output layer with softmax activation\n",
    "        x = F.softmax(self.output(x), dim=1)\n",
    "        \n",
    "        return x\n",
    "\n",
    "model1=Network()\n",
    "model1"
   ]
  },
  {
   "cell_type": "markdown",
   "metadata": {},
   "source": [
    "### Activation functions\n",
    "\n",
    "So far we've only been looking at the sigmoid activation function, but in general any function can be used as an activation function. The only requirement is that for a network to approximate a non-linear function, the activation functions must be non-linear. Here are a few more examples of common activation functions: Tanh (hyperbolic tangent), and ReLU (rectified linear unit).\n",
    "\n",
    "<img src=\"assets/activation.png\" width=700px>\n",
    "\n",
    "In practice, the ReLU function is used almost exclusively as the activation function for hidden layers."
   ]
  },
  {
   "cell_type": "markdown",
   "metadata": {},
   "source": [
    "### Your Turn to Build a Network\n",
    "\n",
    "<img src=\"assets/mlp_mnist.png\" width=600px>\n",
    "\n",
    "> **Exercise:** Create a network with 784 input units, a hidden layer with 128 units and a ReLU activation, then a hidden layer with 64 units and a ReLU activation, and finally an output layer with a softmax activation as shown above. You can use a ReLU activation with the `nn.ReLU` module or `F.relu` function.\n",
    "\n",
    "It's good practice to name your layers by their type of network, for instance 'fc' to represent a fully-connected layer. As you code your solution, use `fc1`, `fc2`, and `fc3` as your layer names."
   ]
  },
  {
   "cell_type": "code",
   "execution_count": 41,
   "metadata": {
    "jupyter": {
     "outputs_hidden": true
    },
    "scrolled": true
   },
   "outputs": [
    {
     "data": {
      "text/plain": [
       "Network(\n",
       "  (fc1): Linear(in_features=784, out_features=128, bias=True)\n",
       "  (fc2): Linear(in_features=128, out_features=64, bias=True)\n",
       "  (fc3): Linear(in_features=64, out_features=10, bias=True)\n",
       ")"
      ]
     },
     "execution_count": 41,
     "metadata": {},
     "output_type": "execute_result"
    }
   ],
   "source": [
    "## Your solution here\n",
    "import torch.nn.functional as F\n",
    "\n",
    "class Network(nn.Module):\n",
    "    def __init__(self):\n",
    "        super().__init__()\n",
    "        \n",
    "        #defining the layers\n",
    "        self.fc1=nn.Linear(784,128)\n",
    "        self.fc2=nn.Linear(128,64)\n",
    "        self.fc3=nn.Linear(64,10)\n",
    "        \n",
    "    def forward(self,x):\n",
    "        x=self.fc1(x)\n",
    "        x=F.relu(x)\n",
    "        x=self.fc2(x)\n",
    "        x=F.relu(x)\n",
    "        x=self.fc3(x)\n",
    "        x=F.softmax(x,dim=1)\n",
    "        return x\n",
    "        \n",
    "model=Network()\n",
    "model"
   ]
  },
  {
   "cell_type": "markdown",
   "metadata": {},
   "source": [
    "### Initializing weights and biases\n",
    "\n",
    "The weights and such are automatically initialized for you, but it's possible to customize how they are initialized. The weights and biases are tensors attached to the layer you defined, you can get them with `model.fc1.weight` for instance."
   ]
  },
  {
   "cell_type": "code",
   "execution_count": 31,
   "metadata": {
    "jupyter": {
     "outputs_hidden": true
    }
   },
   "outputs": [
    {
     "name": "stdout",
     "output_type": "stream",
     "text": [
      "for the weights  Parameter containing:\n",
      "tensor([[-0.0145,  0.0126,  0.0305,  ...,  0.0146, -0.0232,  0.0103],\n",
      "        [-0.0106, -0.0162,  0.0113,  ...,  0.0351,  0.0020,  0.0331],\n",
      "        [ 0.0118,  0.0271, -0.0201,  ...,  0.0100, -0.0057, -0.0155],\n",
      "        ...,\n",
      "        [ 0.0249,  0.0149,  0.0138,  ...,  0.0330,  0.0135,  0.0039],\n",
      "        [-0.0306,  0.0170, -0.0168,  ...,  0.0312,  0.0114, -0.0283],\n",
      "        [-0.0075,  0.0137,  0.0243,  ...,  0.0118, -0.0128, -0.0342]],\n",
      "       requires_grad=True) \n",
      " torch.Size([128, 784])\n",
      "for the weights  Parameter containing:\n",
      "tensor([-6.0301e-03,  1.7529e-02, -3.3987e-02,  2.4726e-02, -1.0352e-02,\n",
      "         6.9958e-03,  6.2548e-03,  2.3148e-02,  6.5838e-03, -9.5702e-03,\n",
      "        -1.2303e-02, -2.9606e-02,  1.1019e-02, -5.6906e-04, -6.9273e-03,\n",
      "         1.9901e-02,  6.2216e-03, -1.4971e-02,  2.4628e-03,  1.4893e-02,\n",
      "        -2.0295e-02,  7.9564e-03,  3.4023e-02, -1.8172e-02, -4.9552e-03,\n",
      "        -1.4758e-02, -7.2282e-04, -4.6587e-03,  2.8843e-02,  1.5853e-02,\n",
      "        -2.1299e-02, -2.7801e-02,  1.3932e-02,  1.3006e-03, -2.4684e-02,\n",
      "         3.1842e-02, -3.1589e-02, -5.2971e-03,  2.1361e-02,  2.9151e-02,\n",
      "         1.7838e-02,  2.0522e-02,  2.3918e-02, -6.9626e-03, -1.3646e-03,\n",
      "        -1.0523e-02,  3.5122e-02, -3.5324e-02, -2.0314e-02, -1.3667e-02,\n",
      "        -1.1462e-02, -2.7580e-02,  1.3155e-02,  2.2833e-02, -3.0175e-02,\n",
      "         6.8098e-03, -3.5064e-02,  8.0025e-03,  3.1968e-02,  2.6884e-02,\n",
      "        -3.1157e-03,  3.1147e-02, -4.1658e-03,  2.0679e-02, -2.4829e-02,\n",
      "        -1.3056e-02, -1.8920e-02, -2.1443e-02,  9.8022e-03, -3.2143e-02,\n",
      "         3.3400e-02,  1.0833e-02, -3.2325e-03, -4.6201e-03, -1.2446e-02,\n",
      "         2.9670e-02,  3.1598e-03,  1.8993e-03,  3.1964e-02, -3.1869e-02,\n",
      "         1.6179e-03, -7.9222e-03,  2.9068e-02,  3.4044e-02, -2.7957e-02,\n",
      "        -8.6001e-03,  2.4384e-02, -2.5930e-02,  2.6054e-02,  1.5754e-03,\n",
      "         8.6822e-05, -2.5549e-02,  3.0840e-02, -2.2290e-02, -3.0807e-02,\n",
      "        -2.4986e-02,  1.8341e-02,  1.3605e-02,  9.6203e-04,  2.2256e-02,\n",
      "         2.7465e-02,  7.6525e-03,  2.7123e-02, -2.9680e-02,  1.7125e-02,\n",
      "        -2.2650e-02,  1.4114e-02, -2.1845e-02,  3.3802e-03, -1.0741e-02,\n",
      "        -2.6873e-02, -1.6992e-02,  5.2378e-03, -3.1406e-02,  1.3380e-02,\n",
      "        -1.4381e-02,  2.7094e-02,  7.2040e-03,  3.1464e-02,  1.4544e-02,\n",
      "        -1.7118e-02,  1.8911e-02,  5.4588e-03,  7.0144e-03, -2.5685e-02,\n",
      "        -1.3055e-02,  3.2170e-02,  1.4279e-02], requires_grad=True) \n",
      " torch.Size([128])\n"
     ]
    }
   ],
   "source": [
    "print('for the weights ' ,model.fc1.weight ,'\\n', model.fc1.weight.shape)\n",
    "print('for the weights ' ,model.fc1.bias ,'\\n', model.fc1.bias.shape)"
   ]
  },
  {
   "cell_type": "markdown",
   "metadata": {},
   "source": [
    "For custom initialization, we want to modify these tensors in place. These are actually autograd *Variables*, so we need to get back the actual tensors with `model.fc1.weight.data`. Once we have the tensors, we can fill them with zeros (for biases) or random normal values."
   ]
  },
  {
   "cell_type": "code",
   "execution_count": 85,
   "metadata": {
    "jupyter": {
     "outputs_hidden": true
    }
   },
   "outputs": [
    {
     "data": {
      "text/plain": [
       "tensor([0., 0., 0., 0., 0., 0., 0., 0., 0., 0., 0., 0., 0., 0., 0., 0., 0., 0., 0., 0., 0., 0., 0., 0.,\n",
       "        0., 0., 0., 0., 0., 0., 0., 0., 0., 0., 0., 0., 0., 0., 0., 0., 0., 0., 0., 0., 0., 0., 0., 0.,\n",
       "        0., 0., 0., 0., 0., 0., 0., 0., 0., 0., 0., 0., 0., 0., 0., 0., 0., 0., 0., 0., 0., 0., 0., 0.,\n",
       "        0., 0., 0., 0., 0., 0., 0., 0., 0., 0., 0., 0., 0., 0., 0., 0., 0., 0., 0., 0., 0., 0., 0., 0.,\n",
       "        0., 0., 0., 0., 0., 0., 0., 0., 0., 0., 0., 0., 0., 0., 0., 0., 0., 0., 0., 0., 0., 0., 0., 0.,\n",
       "        0., 0., 0., 0., 0., 0., 0., 0.])"
      ]
     },
     "execution_count": 85,
     "metadata": {},
     "output_type": "execute_result"
    }
   ],
   "source": [
    "# Set biases to all zeros\n",
    "model.fc1.bias.data.fill_(0)"
   ]
  },
  {
   "cell_type": "code",
   "execution_count": 35,
   "metadata": {
    "jupyter": {
     "outputs_hidden": true
    }
   },
   "outputs": [
    {
     "data": {
      "text/plain": [
       "tensor([[ 9.0018e-03, -1.2163e-02,  9.0686e-03,  ..., -1.1974e-02,\n",
       "         -1.4811e-02, -7.4811e-03],\n",
       "        [-8.4457e-03, -5.9497e-03,  6.4744e-03,  ...,  1.2547e-02,\n",
       "         -1.8460e-02, -3.7741e-03],\n",
       "        [-1.7262e-02,  8.4560e-03,  1.1428e-02,  ...,  3.1037e-03,\n",
       "          1.2994e-03, -2.0060e-02],\n",
       "        ...,\n",
       "        [-5.4176e-03,  1.1163e-05,  1.0270e-03,  ...,  1.8209e-03,\n",
       "          4.3624e-03, -1.2189e-02],\n",
       "        [ 3.7484e-03, -1.3298e-02, -3.6037e-03,  ...,  2.1035e-03,\n",
       "         -4.5438e-03,  1.1823e-03],\n",
       "        [-1.3454e-02,  2.0520e-03, -3.5449e-03,  ...,  1.6861e-03,\n",
       "         -1.9073e-03, -5.5739e-04]])"
      ]
     },
     "execution_count": 35,
     "metadata": {},
     "output_type": "execute_result"
    }
   ],
   "source": [
    "# sample from random normal with standard dev = 0.01\n",
    "model.fc1.weight.data.normal_(std=0.01)"
   ]
  },
  {
   "cell_type": "markdown",
   "metadata": {},
   "source": [
    "### Forward pass\n",
    "\n",
    "Now that we have a network, let's see what happens when we pass in an image."
   ]
  },
  {
   "cell_type": "code",
   "execution_count": 65,
   "metadata": {
    "jupyter": {
     "outputs_hidden": true
    }
   },
   "outputs": [
    {
     "name": "stdout",
     "output_type": "stream",
     "text": [
      "torch.Size([64, 1, 28, 28])\n",
      "torch.Size([64])\n",
      "torch.Size([64, 784])\n",
      "new flattened shape of image batch is torch.Size([64, 784])\n"
     ]
    },
    {
     "ename": "IndexError",
     "evalue": "Dimension out of range (expected to be in range of [-1, 0], but got 1)",
     "output_type": "error",
     "traceback": [
      "\u001b[0;31m---------------------------------------------------------------------------\u001b[0m",
      "\u001b[0;31mIndexError\u001b[0m                                Traceback (most recent call last)",
      "\u001b[0;32m<ipython-input-65-7a9e5d7efde7>\u001b[0m in \u001b[0;36m<module>\u001b[0;34m\u001b[0m\n\u001b[1;32m     17\u001b[0m \u001b[0;31m# Forward pass through the network\u001b[0m\u001b[0;34m\u001b[0m\u001b[0;34m\u001b[0m\u001b[0;34m\u001b[0m\u001b[0m\n\u001b[1;32m     18\u001b[0m \u001b[0mimg_idx\u001b[0m \u001b[0;34m=\u001b[0m \u001b[0;36m0\u001b[0m\u001b[0;34m\u001b[0m\u001b[0;34m\u001b[0m\u001b[0m\n\u001b[0;32m---> 19\u001b[0;31m \u001b[0mps\u001b[0m \u001b[0;34m=\u001b[0m \u001b[0mmodel\u001b[0m\u001b[0;34m.\u001b[0m\u001b[0mforward\u001b[0m\u001b[0;34m(\u001b[0m\u001b[0mimages\u001b[0m\u001b[0;34m[\u001b[0m\u001b[0mimg_idx\u001b[0m\u001b[0;34m,\u001b[0m\u001b[0;34m:\u001b[0m\u001b[0;34m]\u001b[0m\u001b[0;34m)\u001b[0m\u001b[0;34m\u001b[0m\u001b[0;34m\u001b[0m\u001b[0m\n\u001b[0m\u001b[1;32m     20\u001b[0m \u001b[0;34m\u001b[0m\u001b[0m\n\u001b[1;32m     21\u001b[0m \u001b[0mimg\u001b[0m \u001b[0;34m=\u001b[0m \u001b[0mimages\u001b[0m\u001b[0;34m[\u001b[0m\u001b[0mimg_idx\u001b[0m\u001b[0;34m]\u001b[0m\u001b[0;34m\u001b[0m\u001b[0;34m\u001b[0m\u001b[0m\n",
      "\u001b[0;32m~/anaconda3/envs/pytorch/lib/python3.8/site-packages/torch/nn/modules/container.py\u001b[0m in \u001b[0;36mforward\u001b[0;34m(self, input)\u001b[0m\n\u001b[1;32m     98\u001b[0m     \u001b[0;32mdef\u001b[0m \u001b[0mforward\u001b[0m\u001b[0;34m(\u001b[0m\u001b[0mself\u001b[0m\u001b[0;34m,\u001b[0m \u001b[0minput\u001b[0m\u001b[0;34m)\u001b[0m\u001b[0;34m:\u001b[0m\u001b[0;34m\u001b[0m\u001b[0;34m\u001b[0m\u001b[0m\n\u001b[1;32m     99\u001b[0m         \u001b[0;32mfor\u001b[0m \u001b[0mmodule\u001b[0m \u001b[0;32min\u001b[0m \u001b[0mself\u001b[0m\u001b[0;34m:\u001b[0m\u001b[0;34m\u001b[0m\u001b[0;34m\u001b[0m\u001b[0m\n\u001b[0;32m--> 100\u001b[0;31m             \u001b[0minput\u001b[0m \u001b[0;34m=\u001b[0m \u001b[0mmodule\u001b[0m\u001b[0;34m(\u001b[0m\u001b[0minput\u001b[0m\u001b[0;34m)\u001b[0m\u001b[0;34m\u001b[0m\u001b[0;34m\u001b[0m\u001b[0m\n\u001b[0m\u001b[1;32m    101\u001b[0m         \u001b[0;32mreturn\u001b[0m \u001b[0minput\u001b[0m\u001b[0;34m\u001b[0m\u001b[0;34m\u001b[0m\u001b[0m\n\u001b[1;32m    102\u001b[0m \u001b[0;34m\u001b[0m\u001b[0m\n",
      "\u001b[0;32m~/anaconda3/envs/pytorch/lib/python3.8/site-packages/torch/nn/modules/module.py\u001b[0m in \u001b[0;36m__call__\u001b[0;34m(self, *input, **kwargs)\u001b[0m\n\u001b[1;32m    548\u001b[0m             \u001b[0mresult\u001b[0m \u001b[0;34m=\u001b[0m \u001b[0mself\u001b[0m\u001b[0;34m.\u001b[0m\u001b[0m_slow_forward\u001b[0m\u001b[0;34m(\u001b[0m\u001b[0;34m*\u001b[0m\u001b[0minput\u001b[0m\u001b[0;34m,\u001b[0m \u001b[0;34m**\u001b[0m\u001b[0mkwargs\u001b[0m\u001b[0;34m)\u001b[0m\u001b[0;34m\u001b[0m\u001b[0;34m\u001b[0m\u001b[0m\n\u001b[1;32m    549\u001b[0m         \u001b[0;32melse\u001b[0m\u001b[0;34m:\u001b[0m\u001b[0;34m\u001b[0m\u001b[0;34m\u001b[0m\u001b[0m\n\u001b[0;32m--> 550\u001b[0;31m             \u001b[0mresult\u001b[0m \u001b[0;34m=\u001b[0m \u001b[0mself\u001b[0m\u001b[0;34m.\u001b[0m\u001b[0mforward\u001b[0m\u001b[0;34m(\u001b[0m\u001b[0;34m*\u001b[0m\u001b[0minput\u001b[0m\u001b[0;34m,\u001b[0m \u001b[0;34m**\u001b[0m\u001b[0mkwargs\u001b[0m\u001b[0;34m)\u001b[0m\u001b[0;34m\u001b[0m\u001b[0;34m\u001b[0m\u001b[0m\n\u001b[0m\u001b[1;32m    551\u001b[0m         \u001b[0;32mfor\u001b[0m \u001b[0mhook\u001b[0m \u001b[0;32min\u001b[0m \u001b[0mself\u001b[0m\u001b[0;34m.\u001b[0m\u001b[0m_forward_hooks\u001b[0m\u001b[0;34m.\u001b[0m\u001b[0mvalues\u001b[0m\u001b[0;34m(\u001b[0m\u001b[0;34m)\u001b[0m\u001b[0;34m:\u001b[0m\u001b[0;34m\u001b[0m\u001b[0;34m\u001b[0m\u001b[0m\n\u001b[1;32m    552\u001b[0m             \u001b[0mhook_result\u001b[0m \u001b[0;34m=\u001b[0m \u001b[0mhook\u001b[0m\u001b[0;34m(\u001b[0m\u001b[0mself\u001b[0m\u001b[0;34m,\u001b[0m \u001b[0minput\u001b[0m\u001b[0;34m,\u001b[0m \u001b[0mresult\u001b[0m\u001b[0;34m)\u001b[0m\u001b[0;34m\u001b[0m\u001b[0;34m\u001b[0m\u001b[0m\n",
      "\u001b[0;32m~/anaconda3/envs/pytorch/lib/python3.8/site-packages/torch/nn/modules/activation.py\u001b[0m in \u001b[0;36mforward\u001b[0;34m(self, input)\u001b[0m\n\u001b[1;32m   1042\u001b[0m \u001b[0;34m\u001b[0m\u001b[0m\n\u001b[1;32m   1043\u001b[0m     \u001b[0;32mdef\u001b[0m \u001b[0mforward\u001b[0m\u001b[0;34m(\u001b[0m\u001b[0mself\u001b[0m\u001b[0;34m,\u001b[0m \u001b[0minput\u001b[0m\u001b[0;34m)\u001b[0m\u001b[0;34m:\u001b[0m\u001b[0;34m\u001b[0m\u001b[0;34m\u001b[0m\u001b[0m\n\u001b[0;32m-> 1044\u001b[0;31m         \u001b[0;32mreturn\u001b[0m \u001b[0mF\u001b[0m\u001b[0;34m.\u001b[0m\u001b[0msoftmax\u001b[0m\u001b[0;34m(\u001b[0m\u001b[0minput\u001b[0m\u001b[0;34m,\u001b[0m \u001b[0mself\u001b[0m\u001b[0;34m.\u001b[0m\u001b[0mdim\u001b[0m\u001b[0;34m,\u001b[0m \u001b[0m_stacklevel\u001b[0m\u001b[0;34m=\u001b[0m\u001b[0;36m5\u001b[0m\u001b[0;34m)\u001b[0m\u001b[0;34m\u001b[0m\u001b[0;34m\u001b[0m\u001b[0m\n\u001b[0m\u001b[1;32m   1045\u001b[0m \u001b[0;34m\u001b[0m\u001b[0m\n\u001b[1;32m   1046\u001b[0m     \u001b[0;32mdef\u001b[0m \u001b[0mextra_repr\u001b[0m\u001b[0;34m(\u001b[0m\u001b[0mself\u001b[0m\u001b[0;34m)\u001b[0m\u001b[0;34m:\u001b[0m\u001b[0;34m\u001b[0m\u001b[0;34m\u001b[0m\u001b[0m\n",
      "\u001b[0;32m~/anaconda3/envs/pytorch/lib/python3.8/site-packages/torch/nn/functional.py\u001b[0m in \u001b[0;36msoftmax\u001b[0;34m(input, dim, _stacklevel, dtype)\u001b[0m\n\u001b[1;32m   1440\u001b[0m         \u001b[0mdim\u001b[0m \u001b[0;34m=\u001b[0m \u001b[0m_get_softmax_dim\u001b[0m\u001b[0;34m(\u001b[0m\u001b[0;34m'softmax'\u001b[0m\u001b[0;34m,\u001b[0m \u001b[0minput\u001b[0m\u001b[0;34m.\u001b[0m\u001b[0mdim\u001b[0m\u001b[0;34m(\u001b[0m\u001b[0;34m)\u001b[0m\u001b[0;34m,\u001b[0m \u001b[0m_stacklevel\u001b[0m\u001b[0;34m)\u001b[0m\u001b[0;34m\u001b[0m\u001b[0;34m\u001b[0m\u001b[0m\n\u001b[1;32m   1441\u001b[0m     \u001b[0;32mif\u001b[0m \u001b[0mdtype\u001b[0m \u001b[0;32mis\u001b[0m \u001b[0;32mNone\u001b[0m\u001b[0;34m:\u001b[0m\u001b[0;34m\u001b[0m\u001b[0;34m\u001b[0m\u001b[0m\n\u001b[0;32m-> 1442\u001b[0;31m         \u001b[0mret\u001b[0m \u001b[0;34m=\u001b[0m \u001b[0minput\u001b[0m\u001b[0;34m.\u001b[0m\u001b[0msoftmax\u001b[0m\u001b[0;34m(\u001b[0m\u001b[0mdim\u001b[0m\u001b[0;34m)\u001b[0m\u001b[0;34m\u001b[0m\u001b[0;34m\u001b[0m\u001b[0m\n\u001b[0m\u001b[1;32m   1443\u001b[0m     \u001b[0;32melse\u001b[0m\u001b[0;34m:\u001b[0m\u001b[0;34m\u001b[0m\u001b[0;34m\u001b[0m\u001b[0m\n\u001b[1;32m   1444\u001b[0m         \u001b[0mret\u001b[0m \u001b[0;34m=\u001b[0m \u001b[0minput\u001b[0m\u001b[0;34m.\u001b[0m\u001b[0msoftmax\u001b[0m\u001b[0;34m(\u001b[0m\u001b[0mdim\u001b[0m\u001b[0;34m,\u001b[0m \u001b[0mdtype\u001b[0m\u001b[0;34m=\u001b[0m\u001b[0mdtype\u001b[0m\u001b[0;34m)\u001b[0m\u001b[0;34m\u001b[0m\u001b[0;34m\u001b[0m\u001b[0m\n",
      "\u001b[0;31mIndexError\u001b[0m: Dimension out of range (expected to be in range of [-1, 0], but got 1)"
     ]
    }
   ],
   "source": [
    "# Grab some data \n",
    "dataiter = iter(trainloader)\n",
    "\n",
    "#dataiter consists of a batch of 64 input images.\n",
    "\n",
    "images, labels = dataiter.next()\n",
    "#images now contains 64 images , and labels is a 1d tensor vectr of 64 label values\n",
    "print(images.shape)\n",
    "print(labels.shape)\n",
    "\n",
    "# Resize images into a 1D vector, new shape is (batch size, color channels, image pixels) \n",
    "images=images.view(64, -1)\n",
    "print(images.shape)\n",
    "print('new flattened shape of image batch is',images.shape)\n",
    "# or images.resize_(images.shape[0], 1, 784) to automatically get batch size\n",
    "\n",
    "# Forward pass through the network\n",
    "img_idx = 0\n",
    "ps = model.forward(images[img_idx,:])\n",
    "\n",
    "img = images[img_idx]\n",
    "helper.view_classify(img.view(1, 28, 28), ps)"
   ]
  },
  {
   "cell_type": "markdown",
   "metadata": {},
   "source": [
    "As you can see above, our network has basically no idea what this digit is. It's because we haven't trained it yet, all the weights are random!\n",
    "\n",
    "### Using `nn.Sequential`\n",
    "\n",
    "PyTorch provides a convenient way to build networks like this where a tensor is passed sequentially through operations, `nn.Sequential` ([documentation](https://pytorch.org/docs/master/nn.html#torch.nn.Sequential)). Using this to build the equivalent network:"
   ]
  },
  {
   "cell_type": "code",
   "execution_count": 59,
   "metadata": {
    "jupyter": {
     "outputs_hidden": true
    }
   },
   "outputs": [
    {
     "name": "stdout",
     "output_type": "stream",
     "text": [
      "Sequential(\n",
      "  (0): Linear(in_features=784, out_features=128, bias=True)\n",
      "  (1): ReLU()\n",
      "  (2): Linear(in_features=128, out_features=64, bias=True)\n",
      "  (3): ReLU()\n",
      "  (4): Linear(in_features=64, out_features=10, bias=True)\n",
      "  (5): Softmax(dim=1)\n",
      ")\n",
      "torch.Size([64, 1, 784])\n"
     ]
    },
    {
     "data": {
      "image/png": "[encoded data removed]",
      "text/plain": [
       "<Figure size 432x648 with 2 Axes>"
      ]
     },
     "metadata": {
      "image/png": {
       "height": 235,
       "width": 424
      },
      "needs_background": "light"
     },
     "output_type": "display_data"
    }
   ],
   "source": [
    "# Hyperparameters for our network\n",
    "input_size = 784\n",
    "hidden_sizes = [128, 64]\n",
    "output_size = 10\n",
    "\n",
    "# Build a feed-forward network\n",
    "model = nn.Sequential(nn.Linear(input_size, hidden_sizes[0]),\n",
    "                      nn.ReLU(),\n",
    "                      nn.Linear(hidden_sizes[0], hidden_sizes[1]),\n",
    "                      nn.ReLU(),\n",
    "                      nn.Linear(hidden_sizes[1], output_size),\n",
    "                      nn.Softmax(dim=1))\n",
    "print(model)\n",
    "\n",
    "# Forward pass through the network and display output\n",
    "images, labels = next(iter(trainloader))\n",
    "images=images.resize_(images.shape[0], 1, 784)\n",
    "print(images.shape)\n",
    "ps = model.forward(images[0,:])\n",
    "helper.view_classify(images[0].view(1, 28, 28), ps)"
   ]
  },
  {
   "cell_type": "markdown",
   "metadata": {},
   "source": [
    "Here our model is the same as before: 784 input units, a hidden layer with 128 units, ReLU activation, 64 unit hidden layer, another ReLU, then the output layer with 10 units, and the softmax output.\n",
    "\n",
    "The operations are available by passing in the appropriate index. For example, if you want to get first Linear operation and look at the weights, you'd use `model[0]`."
   ]
  },
  {
   "cell_type": "code",
   "execution_count": 50,
   "metadata": {
    "jupyter": {
     "outputs_hidden": true
    }
   },
   "outputs": [
    {
     "name": "stdout",
     "output_type": "stream",
     "text": [
      "Linear(in_features=784, out_features=128, bias=True)\n"
     ]
    },
    {
     "data": {
      "text/plain": [
       "Parameter containing:\n",
       "tensor([[-0.0265,  0.0259,  0.0181,  ..., -0.0147, -0.0090, -0.0148],\n",
       "        [-0.0017, -0.0087,  0.0269,  ..., -0.0325,  0.0045, -0.0187],\n",
       "        [ 0.0257,  0.0110,  0.0015,  ..., -0.0185,  0.0134, -0.0022],\n",
       "        ...,\n",
       "        [-0.0014, -0.0039, -0.0201,  ..., -0.0352, -0.0239,  0.0141],\n",
       "        [-0.0215,  0.0102, -0.0046,  ..., -0.0086,  0.0301, -0.0040],\n",
       "        [ 0.0214,  0.0153, -0.0011,  ...,  0.0304,  0.0269, -0.0011]],\n",
       "       requires_grad=True)"
      ]
     },
     "execution_count": 50,
     "metadata": {},
     "output_type": "execute_result"
    }
   ],
   "source": [
    "print(model[0])\n",
    "model[0].weight\n"
   ]
  },
  {
   "cell_type": "markdown",
   "metadata": {},
   "source": [
    "You can also pass in an `OrderedDict` to name the individual layers and operations, instead of using incremental integers. Note that dictionary keys must be unique, so _each operation must have a different name_."
   ]
  },
  {
   "cell_type": "code",
   "execution_count": 51,
   "metadata": {
    "jupyter": {
     "outputs_hidden": true
    }
   },
   "outputs": [
    {
     "data": {
      "text/plain": [
       "Sequential(\n",
       "  (fc1): Linear(in_features=784, out_features=128, bias=True)\n",
       "  (relu1): ReLU()\n",
       "  (fc2): Linear(in_features=128, out_features=64, bias=True)\n",
       "  (relu2): ReLU()\n",
       "  (output): Linear(in_features=64, out_features=10, bias=True)\n",
       "  (softmax): Softmax(dim=1)\n",
       ")"
      ]
     },
     "execution_count": 51,
     "metadata": {},
     "output_type": "execute_result"
    }
   ],
   "source": [
    "from collections import OrderedDict\n",
    "model = nn.Sequential(OrderedDict([\n",
    "                      ('fc1', nn.Linear(input_size, hidden_sizes[0])),\n",
    "                      ('relu1', nn.ReLU()),\n",
    "                      ('fc2', nn.Linear(hidden_sizes[0], hidden_sizes[1])),\n",
    "                      ('relu2', nn.ReLU()),\n",
    "                      ('output', nn.Linear(hidden_sizes[1], output_size)),\n",
    "                      ('softmax', nn.Softmax(dim=1))]))\n",
    "model"
   ]
  },
  {
   "cell_type": "markdown",
   "metadata": {},
   "source": [
    "Now you can access layers either by integer or the name"
   ]
  },
  {
   "cell_type": "code",
   "execution_count": 52,
   "metadata": {
    "jupyter": {
     "outputs_hidden": true
    }
   },
   "outputs": [
    {
     "name": "stdout",
     "output_type": "stream",
     "text": [
      "Linear(in_features=784, out_features=128, bias=True)\n",
      "Linear(in_features=784, out_features=128, bias=True)\n"
     ]
    }
   ],
   "source": [
    "print(model[0])\n",
    "print(model.fc1)"
   ]
  },
  {
   "cell_type": "markdown",
   "metadata": {},
   "source": [
    "In the next notebook, we'll see how we can train a neural network to accuractly predict the numbers appearing in the MNIST images."
   ]
  }
 ],
 "metadata": {
  "kernelspec": {
   "display_name": "Python 3",
   "language": "python",
   "name": "python3"
  },
  "language_info": {
   "codemirror_mode": {
    "name": "ipython",
    "version": 3
   },
   "file_extension": ".py",
   "mimetype": "text/x-python",
   "name": "python",
   "nbconvert_exporter": "python",
   "pygments_lexer": "ipython3",
   "version": "3.8.2"
  }
 },
 "nbformat": 4,
 "nbformat_minor": 4
}
