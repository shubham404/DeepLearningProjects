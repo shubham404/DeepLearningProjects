{
 "cells": [
  {
   "cell_type": "markdown",
   "metadata": {},
   "source": [
    "# Neural networks with PyTorch\n",
    "\n",
    "Deep learning networks tend to be massive with dozens or hundreds of layers, that's where the term \"deep\" comes from. You can build one of these deep networks using only weight matrices as we did in the previous notebook, but in general it's very cumbersome and difficult to implement. PyTorch has a nice module `nn` that provides a nice way to efficiently build large neural networks."
   ]
  },
  {
   "cell_type": "code",
   "execution_count": 2,
   "metadata": {},
   "outputs": [],
   "source": [
    "# Import necessary packages\n",
    "\n",
    "%matplotlib inline\n",
    "%config InlineBackend.figure_format = 'retina'\n",
    "\n",
    "import numpy as np\n",
    "import torch\n",
    "\n",
    "import helper\n",
    "\n",
    "import matplotlib.pyplot as plt"
   ]
  },
  {
   "cell_type": "markdown",
   "metadata": {},
   "source": [
    "\n",
    "Now we're going to build a larger network that can solve a (formerly) difficult problem, identifying text in an image. Here we'll use the MNIST dataset which consists of greyscale handwritten digits. Each image is 28x28 pixels, you can see a sample below\n",
    "\n",
    "<img src='assets/mnist.png'>\n",
    "\n",
    "Our goal is to build a neural network that can take one of these images and predict the digit in the image.\n",
    "\n",
    "First up, we need to get our dataset. This is provided through the `torchvision` package. The code below will download the MNIST dataset, then create training and test datasets for us. Don't worry too much about the details here, you'll learn more about this later."
   ]
  },
  {
   "cell_type": "code",
   "execution_count": 3,
   "metadata": {},
   "outputs": [],
   "source": [
    "### Run this cell\n",
    "\n",
    "from torchvision import datasets, transforms\n",
    "\n",
    "# Define a transform to normalize the data\n",
    "transform = transforms.Compose([transforms.ToTensor(),\n",
    "                              transforms.Normalize((0.5,), (0.5,)),\n",
    "                              ])\n",
    "# Download and load the training data\n",
    "trainset = datasets.MNIST('~/.pytorch/MNIST_data/', download=True, train=True, transform=transform)\n",
    "trainloader = torch.utils.data.DataLoader(trainset, batch_size=64, shuffle=True)"
   ]
  },
  {
   "cell_type": "markdown",
   "metadata": {},
   "source": [
    "We have the training data loaded into `trainloader` and we make that an iterator with `iter(trainloader)`. Later, we'll use this to loop through the dataset for training, like\n",
    "\n",
    "```python\n",
    "for image, label in trainloader:\n",
    "    ## do things with images and labels\n",
    "```\n",
    "\n",
    "You'll notice I created the `trainloader` with a batch size of 64, and `shuffle=True`. The batch size is the number of images we get in one iteration from the data loader and pass through our network, often called a *batch*. And `shuffle=True` tells it to shuffle the dataset every time we start going through the data loader again. But here I'm just grabbing the first batch so we can check out the data. We can see below that `images` is just a tensor with size `(64, 1, 28, 28)`. So, 64 images per batch, 1 color channel, and 28x28 images."
   ]
  },
  {
   "cell_type": "code",
   "execution_count": 4,
   "metadata": {},
   "outputs": [
    {
     "name": "stdout",
     "output_type": "stream",
     "text": [
      "<class 'torch.Tensor'>\n",
      "torch.Size([64, 1, 28, 28])\n",
      "torch.Size([64])\n"
     ]
    }
   ],
   "source": [
    "dataiter = iter(trainloader)\n",
    "images, labels = dataiter.next()\n",
    "print(type(images))\n",
    "print(images.shape)\n",
    "print(labels.shape)"
   ]
  },
  {
   "cell_type": "markdown",
   "metadata": {},
   "source": [
    "This is what one of the images looks like. "
   ]
  },
  {
   "cell_type": "code",
   "execution_count": 5,
   "metadata": {},
   "outputs": [
    {
     "data": {
      "image/png": "[encoded data removed]",
      "text/plain": [
       "<Figure size 432x288 with 1 Axes>"
      ]
     },
     "metadata": {
      "image/png": {
       "height": 248,
       "width": 251
      },
      "needs_background": "light"
     },
     "output_type": "display_data"
    }
   ],
   "source": [
    "plt.imshow(images[1].numpy().squeeze(), cmap='Greys_r');"
   ]
  },
  {
   "cell_type": "markdown",
   "metadata": {},
   "source": [
    "First, let's try to build a simple network for this dataset using weight matrices and matrix multiplications. Then, we'll see how to do it using PyTorch's `nn` module which provides a much more convenient and powerful method for defining network architectures.\n",
    "\n",
    "The networks you've seen so far are called *fully-connected* or *dense* networks. Each unit in one layer is connected to each unit in the next layer. In fully-connected networks, the input to each layer must be a one-dimensional vector (which can be stacked into a 2D tensor as a batch of multiple examples). However, our images are 28x28 2D tensors, so we need to convert them into 1D vectors. Thinking about sizes, we need to convert the batch of images with shape `(64, 1, 28, 28)` to a have a shape of `(64, 784)`, 784 is 28 times 28. This is typically called *flattening*, we flattened the 2D images into 1D vectors.\n",
    "\n",
    "Previously you built a network with one output unit. Here we need 10 output units, one for each digit. We want our network to predict the digit shown in an image, so what we'll do is calculate probabilities that the image is of any one digit or class. This ends up being a discrete probability distribution over the classes (digits) that tells us the most likely class for the image. That means we need 10 output units for the 10 classes (digits). We'll see how to convert the network output into a probability distribution next.\n",
    "\n",
    "> **Exercise:** Flatten the batch of images `images`. Then build a multi-layer network with 784 input units, 256 hidden units, and 10 output units using random tensors for the weights and biases. For now, use a sigmoid activation for the hidden layer. Leave the output layer without an activation, we'll add one that gives us a probability distribution next."
   ]
  },
  {
   "cell_type": "code",
   "execution_count": 6,
   "metadata": {},
   "outputs": [
    {
     "name": "stdout",
     "output_type": "stream",
     "text": [
      "tensor([[-5.3844e+00, -2.1898e+00,  2.6229e+00, -2.0984e+01, -1.5487e+01,\n",
      "          1.2851e+01,  1.3168e+01, -7.8185e-01, -1.3692e+01, -2.7419e-01],\n",
      "        [-1.0122e+01,  8.4034e+00,  7.9484e-01, -1.9093e+01, -8.7592e+00,\n",
      "          2.4595e+01,  1.8347e+01, -3.2148e+00, -1.4052e+01,  8.7044e+00],\n",
      "        [-3.6504e+00,  6.3599e+00,  3.0668e+00, -2.4466e+01, -3.2764e+00,\n",
      "          2.7098e+01,  1.7198e+01, -3.2916e+00, -1.8121e+01,  9.2236e+00],\n",
      "        [-4.7291e+00, -6.2606e-01, -3.8297e+00, -2.3477e+01,  2.2757e+00,\n",
      "          1.6194e+01,  2.4242e+01,  2.1083e+00, -2.7092e+01,  8.6477e+00],\n",
      "        [-3.9254e+00,  3.2105e+00,  3.3370e+00, -1.6047e+01, -1.0001e+01,\n",
      "          2.4241e+01,  2.1013e+01, -1.3206e+01, -2.0226e+01,  6.1031e-01],\n",
      "        [-6.9935e+00,  1.0649e+01,  8.2821e+00, -1.1601e+01, -1.3005e+01,\n",
      "          2.5485e+01,  1.7265e+01, -2.3648e+00, -7.5655e+00,  5.2384e+00],\n",
      "        [-8.6716e+00,  5.3410e+00,  8.8611e+00, -1.0150e+01, -1.4289e+01,\n",
      "          2.0647e+01,  1.6932e+01, -9.2081e+00, -1.1543e+01,  1.2923e+00],\n",
      "        [-9.4114e+00,  5.3478e+00,  4.6364e+00, -1.5863e+01, -4.6605e+00,\n",
      "          1.7260e+01,  1.5623e+01, -9.9475e+00, -2.1770e+01,  8.1753e-01],\n",
      "        [-1.5263e+01,  9.3525e+00,  4.8499e+00, -1.5650e+01, -2.2431e+00,\n",
      "          7.7388e+00,  1.8559e+01,  3.3910e+00, -1.3135e+01, -4.6130e+00],\n",
      "        [-1.4916e+01,  3.8956e+00,  5.9253e+00, -9.7819e+00, -2.4262e+00,\n",
      "          2.1709e+01,  1.1703e+01,  2.2576e+00, -2.2264e+01,  6.3658e-01],\n",
      "        [-7.8522e+00,  8.3351e-01,  4.5447e+00, -2.4120e+01,  6.8680e-01,\n",
      "          1.3619e+01,  9.4112e+00, -5.6842e+00, -1.4327e+01,  3.2931e+00],\n",
      "        [-5.7060e+00,  3.8133e+00, -1.6807e+00, -1.5328e+01, -4.4877e+00,\n",
      "          2.2049e+01,  2.0301e+01, -1.2418e+01, -1.2543e+01,  1.0698e+00],\n",
      "        [-1.3405e+01,  8.3094e+00,  4.1127e+00, -2.3720e+01,  3.8614e-01,\n",
      "          1.7597e+01,  2.0516e+01, -5.4241e+00, -2.0237e+01,  7.6870e+00],\n",
      "        [-1.1165e+01,  1.3628e+00, -3.3997e+00, -1.3542e+01, -1.4188e+00,\n",
      "          2.5062e+01,  1.5524e+01, -7.9395e+00, -8.2767e+00,  1.0933e+00],\n",
      "        [-5.3800e+00,  9.9300e+00,  8.0631e+00, -2.1282e+01, -2.1376e+00,\n",
      "          2.3276e+01,  8.7313e+00, -5.5870e+00, -1.6725e+01,  4.5425e-01],\n",
      "        [-5.9545e+00,  8.7816e+00,  8.4643e+00, -1.0287e+01, -1.0719e+01,\n",
      "          1.7969e+01,  1.6716e+01, -3.3735e+00, -1.4974e+01, -1.6261e+00],\n",
      "        [ 2.7655e+00,  9.0271e+00,  3.9667e+00, -1.8586e+01, -1.4732e+01,\n",
      "          3.2491e+01,  1.7232e+01, -9.3762e+00, -1.4049e+01, -1.4332e+00],\n",
      "        [-8.7681e+00, -3.7182e-01, -2.7851e+00, -2.0382e+01, -2.8952e+00,\n",
      "          1.9874e+01,  1.5302e+01, -5.1922e+00, -2.1042e+01,  6.0723e+00],\n",
      "        [-1.3555e+01,  2.3803e+00,  1.1109e+00, -2.4843e+01, -5.7020e+00,\n",
      "          2.3301e+01,  1.2332e+01, -1.0892e+01, -1.6867e+01,  4.9841e+00],\n",
      "        [-4.0752e+00,  1.0528e+01,  1.1561e+01, -1.7516e+01, -4.7377e-01,\n",
      "          1.8663e+01,  1.6242e+01, -4.1478e+00, -1.3653e+01,  5.8323e+00],\n",
      "        [-9.6701e+00,  5.9652e+00,  4.7484e-01, -1.3656e+01, -1.2160e+01,\n",
      "          2.3100e+01,  1.7406e+01, -2.9000e+00, -1.0689e+01,  3.5406e+00],\n",
      "        [-7.7837e+00,  8.3431e+00,  1.7535e+00, -1.9924e+01, -7.6515e+00,\n",
      "          2.1188e+01,  1.4504e+01, -6.3363e+00, -1.6843e+01,  2.8930e+00],\n",
      "        [-4.3674e+00,  1.0743e+01, -4.7231e+00, -3.0763e+01,  6.1418e+00,\n",
      "          2.5609e+01,  1.8476e+01, -3.7679e+00, -1.4329e+01,  7.3379e+00],\n",
      "        [-1.0632e+01,  1.0536e+00,  3.7499e+00, -1.4088e+01, -4.2850e-01,\n",
      "          2.0265e+01,  2.0294e+01, -5.8125e+00, -1.2388e+01,  7.5660e+00],\n",
      "        [-5.1099e+00,  3.9814e+00, -2.9412e+00, -2.1996e+01,  1.9557e+00,\n",
      "          1.9047e+01,  2.2609e+01, -8.5531e-01, -9.6877e+00,  7.2876e+00],\n",
      "        [-2.4234e+00,  2.1985e+00,  3.1247e+00, -1.7168e+01, -3.9152e+00,\n",
      "          1.5631e+01,  2.4488e+01, -5.4251e+00, -1.6412e+01,  3.6381e+00],\n",
      "        [-1.7763e+01,  2.6182e+00, -1.6176e+00, -1.2144e+01, -5.2599e+00,\n",
      "          1.9895e+01,  7.5040e+00, -3.9146e+00, -1.4075e+01,  4.3088e+00],\n",
      "        [ 1.5398e-02,  1.1686e+01, -1.4603e+00, -2.1423e+01, -7.2000e+00,\n",
      "          2.2019e+01,  1.8719e+01, -1.7451e+00, -1.1476e+01,  1.1845e+01],\n",
      "        [ 5.4965e+00,  1.7780e+01,  6.4322e+00, -1.9567e+01,  7.2712e+00,\n",
      "          1.3081e+01,  1.4886e+01, -6.9937e+00, -1.5639e+01,  6.5909e+00],\n",
      "        [-4.9343e+00,  9.8585e+00,  3.1655e-01, -1.5557e+01, -4.4504e+00,\n",
      "          2.2510e+01,  1.2684e+01, -1.3826e+01, -1.1679e+01,  5.4372e+00],\n",
      "        [-5.9858e+00,  8.3129e+00,  4.1072e+00, -2.1381e+01, -1.3144e+01,\n",
      "          2.8608e+01,  1.7674e+01, -8.8046e+00, -1.1067e+01, -1.0241e+00],\n",
      "        [-1.0960e+01,  8.5555e+00,  7.2325e+00, -1.8838e+01,  9.0914e-02,\n",
      "          3.1106e+01,  9.8368e+00, -1.0187e+01, -1.1105e+01,  1.5904e+01],\n",
      "        [-5.8800e+00,  4.0898e+00,  1.0273e+01, -1.6908e+01, -6.0898e+00,\n",
      "          2.2899e+01,  2.2446e+01,  2.6050e+00, -1.5968e+01,  3.9068e+00],\n",
      "        [-3.5109e+00,  3.0056e+00,  6.5544e+00, -2.4790e+01,  3.2471e+00,\n",
      "          1.7332e+01,  1.5881e+01, -1.0468e+01, -1.2250e+01,  4.3785e+00],\n",
      "        [-9.1280e-01,  1.9127e+00,  8.5342e+00, -1.6022e+01,  4.2426e+00,\n",
      "          1.8853e+01,  2.2928e+01, -1.1198e+00, -2.1061e+01,  2.7093e+00],\n",
      "        [-2.5065e+00,  1.0933e+01,  4.8300e+00, -2.0430e+01, -5.9776e+00,\n",
      "          1.3011e+01,  8.3095e+00, -4.8911e+00, -1.6538e+01, -7.8585e+00],\n",
      "        [-9.1422e+00,  5.3511e+00,  9.4029e+00, -1.7113e+01, -4.8041e+00,\n",
      "          1.4701e+01,  1.7949e+01, -3.5715e+00, -2.0880e+01,  1.0766e+00],\n",
      "        [-9.3179e+00,  3.2872e+00, -4.2429e+00, -1.4158e+01, -4.4588e+00,\n",
      "          2.7954e+01,  2.0500e+01, -4.6373e-01, -1.9585e+01,  1.1945e+01],\n",
      "        [-5.8240e+00,  4.8435e+00,  5.6132e+00, -2.2562e+01,  1.9457e+00,\n",
      "          2.1360e+01,  9.0397e+00, -1.0585e+01, -1.3670e+01,  8.0644e+00],\n",
      "        [-9.7239e+00,  1.3454e+01,  7.2298e+00, -1.0136e+01, -1.1917e+01,\n",
      "          1.9732e+01,  1.4905e+01, -1.0231e+00, -1.9361e+01, -8.8726e+00],\n",
      "        [ 3.2145e+00,  7.3715e+00,  5.4111e+00, -2.2489e+01, -3.5938e-01,\n",
      "          1.6738e+01,  1.4931e+01, -8.9625e+00, -1.0143e+01, -2.8674e+00],\n",
      "        [-7.7793e+00,  4.6017e+00,  7.3819e+00, -1.6218e+01, -1.4726e+01,\n",
      "          1.9061e+01,  1.2635e+01, -7.4533e+00, -8.1428e+00,  1.4187e+00],\n",
      "        [-6.8833e+00,  5.8652e+00, -6.0256e+00, -1.7296e+01, -7.2357e+00,\n",
      "          1.7754e+01,  1.8186e+01, -1.2083e+01, -1.7691e+01, -2.7400e+00],\n",
      "        [-2.8217e+00,  5.6209e+00,  1.6720e+00, -1.7039e+01,  6.2426e+00,\n",
      "          2.1492e+01,  1.8073e+01, -6.7630e+00, -1.8222e+01,  7.2867e+00],\n",
      "        [-1.3562e+01,  4.1506e+00, -6.5352e+00, -2.4964e+01,  2.6990e+00,\n",
      "          1.5439e+01,  2.1724e+01,  1.2386e+00, -9.9045e+00,  1.6625e+00],\n",
      "        [ 1.7869e-03,  2.2949e+00,  3.3975e+00, -1.6845e+01, -1.0391e+01,\n",
      "          2.5692e+01,  6.9273e+00, -1.2559e+01, -1.2373e+01, -5.1735e-01],\n",
      "        [-3.0923e+00,  1.0437e+01,  2.1189e+00, -1.3689e+01, -7.7729e+00,\n",
      "          2.1157e+01,  2.3190e+01, -6.0809e+00, -2.2600e+01,  4.4676e-01],\n",
      "        [-1.4359e+00,  1.2223e+01,  3.4796e+00, -1.8542e+01, -1.0158e+01,\n",
      "          1.2697e+01,  1.7275e+01, -2.5754e+00, -1.4778e+01,  6.0167e+00],\n",
      "        [-1.4309e+00,  7.6431e+00,  4.5012e+00, -2.0627e+01,  3.2694e+00,\n",
      "          1.7526e+01,  2.4819e+01, -4.5447e+00, -1.3101e+01,  4.6978e+00],\n",
      "        [-1.0870e+00,  3.4592e+00, -6.2682e+00, -2.1589e+01,  1.6381e-01,\n",
      "          1.5583e+01,  1.2480e+01, -3.4320e+00, -1.4778e+01,  8.4589e+00],\n",
      "        [-9.1052e+00,  6.9793e+00,  5.1171e+00, -6.6767e+00,  2.5370e+00,\n",
      "          1.9100e+01,  1.2754e+01, -4.8968e+00, -2.2585e+01,  8.1451e+00],\n",
      "        [ 1.5446e+00,  5.7584e+00,  1.6168e+00, -1.4543e+01, -2.9050e+00,\n",
      "          2.2764e+01,  1.9741e+01, -1.1437e+01, -9.3390e+00,  5.1087e+00],\n",
      "        [-1.0889e+01,  9.6467e+00,  6.2629e+00, -1.9088e+01, -7.2183e+00,\n",
      "          2.4798e+01,  1.5138e+01, -2.6304e+00, -1.8683e+01,  4.7049e+00],\n",
      "        [-1.4132e-01,  2.0364e+00,  2.5361e+00, -1.9138e+01, -9.6002e+00,\n",
      "          2.3439e+01,  1.8932e+01, -5.2080e+00, -2.2912e+01,  5.9885e+00],\n",
      "        [ 1.3080e+00, -1.1975e+00,  9.9462e+00, -2.5506e+01, -4.1482e+00,\n",
      "          2.5659e+01,  1.1867e+01, -1.0805e+00, -1.0281e+01,  1.2508e+01],\n",
      "        [-5.9471e+00,  8.3406e+00,  3.1077e+00, -1.7240e+01, -3.7902e+00,\n",
      "          2.4620e+01,  1.7876e+01, -1.0468e+01, -1.4620e+01,  3.7383e+00],\n",
      "        [-6.9310e+00,  1.9301e+00,  9.8139e-01, -1.6461e+01, -5.2302e+00,\n",
      "          2.2000e+01,  2.0352e+01, -7.0451e+00, -2.0137e+01,  7.6142e+00],\n",
      "        [-1.0649e+01,  4.9363e+00,  7.2536e+00, -1.3880e+01, -7.3052e+00,\n",
      "          2.2187e+01,  1.7590e+01, -9.1752e+00, -9.0547e+00,  5.1449e+00],\n",
      "        [-1.0811e+01,  7.6195e+00,  1.2128e+01, -2.1536e+01, -4.2616e+00,\n",
      "          2.0596e+01,  1.3084e+01,  2.2890e+00, -1.2251e+01,  1.2848e+01],\n",
      "        [-6.2753e+00,  1.3279e+01,  5.0951e+00, -2.3987e+01, -6.7298e+00,\n",
      "          2.6408e+01,  2.5558e+01, -1.0202e+01, -1.6571e+01,  1.2164e+00],\n",
      "        [ 1.5554e+00,  6.3394e+00,  5.1354e+00, -1.5419e+01, -2.8843e+00,\n",
      "          2.5053e+01,  2.3058e+01, -6.6142e+00, -2.3676e+01,  7.7726e+00],\n",
      "        [-4.0033e+00,  1.1693e+01,  9.3287e+00, -1.2795e+01, -9.9734e+00,\n",
      "          2.0460e+01,  9.3871e+00, -4.5243e+00, -1.1423e+01, -5.2163e+00],\n",
      "        [-4.3673e+00,  1.4977e+01,  1.7457e+00, -1.7574e+01, -1.4268e+01,\n",
      "          2.2518e+01,  2.7772e+01, -4.0320e-01, -1.5883e+01,  9.7321e+00],\n",
      "        [-1.0170e+01,  8.0783e+00,  8.7462e+00, -1.2498e+01, -1.5289e+01,\n",
      "          1.9377e+01,  2.3272e+01, -8.4890e-01, -1.8780e+01,  7.0657e+00]])\n"
     ]
    }
   ],
   "source": [
    "## Solution\n",
    "def activation(x):\n",
    "    return 1/(1+torch.exp(-x))\n",
    "\n",
    "# Flatten the input images\n",
    "inputs = images.view(images.shape[0], -1)\n",
    "\n",
    "# Create parameters\n",
    "w1 = torch.randn(784, 256)\n",
    "b1 = torch.randn(256)\n",
    "\n",
    "w2 = torch.randn(256, 10)\n",
    "b2 = torch.randn(10)\n",
    "\n",
    "h = activation(torch.mm(inputs, w1) + b1)\n",
    "\n",
    "out = torch.mm(h, w2) + b2\n",
    "print(out)"
   ]
  },
  {
   "cell_type": "markdown",
   "metadata": {},
   "source": [
    "Now we have 10 outputs for our network. We want to pass in an image to our network and get out a probability distribution over the classes that tells us the likely class(es) the image belongs to. Something that looks like this:\n",
    "<img src='assets/image_distribution.png' width=500px>\n",
    "\n",
    "Here we see that the probability for each class is roughly the same. This is representing an untrained network, it hasn't seen any data yet so it just returns a uniform distribution with equal probabilities for each class.\n",
    "\n",
    "To calculate this probability distribution, we often use the [**softmax** function](https://en.wikipedia.org/wiki/Softmax_function). Mathematically this looks like\n",
    "\n",
    "$$\n",
    "\\Large \\sigma(x_i) = \\cfrac{e^{x_i}}{\\sum_k^K{e^{x_k}}}\n",
    "$$\n",
    "\n",
    "What this does is squish each input $x_i$ between 0 and 1 and normalizes the values to give you a proper probability distribution where the probabilites sum up to one.\n",
    "\n",
    "> **Exercise:** Implement a function `softmax` that performs the softmax calculation and returns probability distributions for each example in the batch. Note that you'll need to pay attention to the shapes when doing this. If you have a tensor `a` with shape `(64, 10)` and a tensor `b` with shape `(64,)`, doing `a/b` will give you an error because PyTorch will try to do the division across the columns (called broadcasting) but you'll get a size mismatch. The way to think about this is for each of the 64 examples, you only want to divide by one value, the sum in the denominator. So you need `b` to have a shape of `(64, 1)`. This way PyTorch will divide the 10 values in each row of `a` by the one value in each row of `b`. Pay attention to how you take the sum as well. You'll need to define the `dim` keyword in `torch.sum`. Setting `dim=0` takes the sum across the rows while `dim=1` takes the sum across the columns."
   ]
  },
  {
   "cell_type": "code",
   "execution_count": 7,
   "metadata": {},
   "outputs": [
    {
     "name": "stdout",
     "output_type": "stream",
     "text": [
      "here is the testeing part\n",
      "here testing part ends\n",
      "torch.Size([64, 10])\n",
      "tensor([1.0000, 1.0000, 1.0000, 1.0000, 1.0000, 1.0000, 1.0000, 1.0000, 1.0000,\n",
      "        1.0000, 1.0000, 1.0000, 1.0000, 1.0000, 1.0000, 1.0000, 1.0000, 1.0000,\n",
      "        1.0000, 1.0000, 1.0000, 1.0000, 1.0000, 1.0000, 1.0000, 1.0000, 1.0000,\n",
      "        1.0000, 1.0000, 1.0000, 1.0000, 1.0000, 1.0000, 1.0000, 1.0000, 1.0000,\n",
      "        1.0000, 1.0000, 1.0000, 1.0000, 1.0000, 1.0000, 1.0000, 1.0000, 1.0000,\n",
      "        1.0000, 1.0000, 1.0000, 1.0000, 1.0000, 1.0000, 1.0000, 1.0000, 1.0000,\n",
      "        1.0000, 1.0000, 1.0000, 1.0000, 1.0000, 1.0000, 1.0000, 1.0000, 1.0000,\n",
      "        1.0000])\n"
     ]
    }
   ],
   "source": [
    "## Solution\n",
    "def softmax(x):\n",
    "    return torch.exp(x)/torch.sum(torch.exp(x), dim=1).view(-1, 1)\n",
    "\n",
    "print(\"here is the testeing part\")\n",
    "\n",
    "print(\"here testing part ends\")\n",
    "probabilities = softmax(out)\n",
    "\n",
    "# Does it have the right shape? Should be (64, 10)\n",
    "print(probabilities.shape)\n",
    "# Does it sum to 1?\n",
    "print(probabilities.sum(dim=1))"
   ]
  },
  {
   "cell_type": "markdown",
   "metadata": {},
   "source": [
    "## Building networks with PyTorch\n",
    "\n",
    "PyTorch provides a module `nn` that makes building networks much simpler. Here I'll show you how to build the same one as above with 784 inputs, 256 hidden units, 10 output units and a softmax output."
   ]
  },
  {
   "cell_type": "code",
   "execution_count": 8,
   "metadata": {},
   "outputs": [],
   "source": [
    "from torch import nn"
   ]
  },
  {
   "cell_type": "code",
   "execution_count": 9,
   "metadata": {},
   "outputs": [],
   "source": [
    "class Network(nn.Module):\n",
    "    def __init__(self):\n",
    "        super().__init__()\n",
    "        \n",
    "        # Inputs to hidden layer linear transformation\n",
    "        self.hidden = nn.Linear(784, 256)\n",
    "        # Output layer, 10 units - one for each digit\n",
    "        self.output = nn.Linear(256, 10)\n",
    "        \n",
    "        # Define sigmoid activation and softmax output \n",
    "        self.sigmoid = nn.Sigmoid()\n",
    "        self.softmax = nn.Softmax(dim=1)\n",
    "        \n",
    "    def forward(self, x):\n",
    "        # Pass the input tensor through each of our operations\n",
    "        x = self.hidden(x)\n",
    "        x = self.sigmoid(x)\n",
    "        x = self.output(x)\n",
    "        x = self.softmax(x)\n",
    "        \n",
    "        return x"
   ]
  },
  {
   "cell_type": "markdown",
   "metadata": {},
   "source": [
    "Let's go through this bit by bit.\n",
    "\n",
    "```python\n",
    "class Network(nn.Module):\n",
    "```\n",
    "\n",
    "Here we're inheriting from `nn.Module`. Combined with `super().__init__()` this creates a class that tracks the architecture and provides a lot of useful methods and attributes. It is mandatory to inherit from `nn.Module` when you're creating a class for your network. The name of the class itself can be anything.\n",
    "\n",
    "```python\n",
    "self.hidden = nn.Linear(784, 256)\n",
    "```\n",
    "\n",
    "This line creates a module for a linear transformation, $x\\mathbf{W} + b$, with 784 inputs and 256 outputs and assigns it to `self.hidden`. The module automatically creates the weight and bias tensors which we'll use in the `forward` method. You can access the weight and bias tensors once the network (`net`) is created with `net.hidden.weight` and `net.hidden.bias`.\n",
    "\n",
    "```python\n",
    "self.output = nn.Linear(256, 10)\n",
    "```\n",
    "\n",
    "Similarly, this creates another linear transformation with 256 inputs and 10 outputs.\n",
    "\n",
    "```python\n",
    "self.sigmoid = nn.Sigmoid()\n",
    "self.softmax = nn.Softmax(dim=1)\n",
    "```\n",
    "\n",
    "Here I defined operations for the sigmoid activation and softmax output. Setting `dim=1` in `nn.Softmax(dim=1)` calculates softmax across the columns.\n",
    "\n",
    "```python\n",
    "def forward(self, x):\n",
    "```\n",
    "\n",
    "PyTorch networks created with `nn.Module` must have a `forward` method defined. It takes in a tensor `x` and passes it through the operations you defined in the `__init__` method.\n",
    "\n",
    "```python\n",
    "x = self.hidden(x)\n",
    "x = self.sigmoid(x)\n",
    "x = self.output(x)\n",
    "x = self.softmax(x)\n",
    "```\n",
    "\n",
    "Here the input tensor `x` is passed through each operation a reassigned to `x`. We can see that the input tensor goes through the hidden layer, then a sigmoid function, then the output layer, and finally the softmax function. It doesn't matter what you name the variables here, as long as the inputs and outputs of the operations match the network architecture you want to build. The order in which you define things in the `__init__` method doesn't matter, but you'll need to sequence the operations correctly in the `forward` method.\n",
    "\n",
    "Now we can create a `Network` object."
   ]
  },
  {
   "cell_type": "code",
   "execution_count": 10,
   "metadata": {},
   "outputs": [
    {
     "data": {
      "text/plain": [
       "Network(\n",
       "  (hidden): Linear(in_features=784, out_features=256, bias=True)\n",
       "  (output): Linear(in_features=256, out_features=10, bias=True)\n",
       "  (sigmoid): Sigmoid()\n",
       "  (softmax): Softmax(dim=1)\n",
       ")"
      ]
     },
     "execution_count": 10,
     "metadata": {},
     "output_type": "execute_result"
    }
   ],
   "source": [
    "# Create the network and look at it's text representation\n",
    "model = Network()\n",
    "model"
   ]
  },
  {
   "cell_type": "markdown",
   "metadata": {},
   "source": [
    "You can define the network somewhat more concisely and clearly using the `torch.nn.functional` module. This is the most common way you'll see networks defined as many operations are simple element-wise functions. We normally import this module as `F`, `import torch.nn.functional as F`."
   ]
  },
  {
   "cell_type": "code",
   "execution_count": 11,
   "metadata": {},
   "outputs": [],
   "source": [
    "import torch.nn.functional as F\n",
    "\n",
    "class Network(nn.Module):\n",
    "    def __init__(self):\n",
    "        super().__init__()\n",
    "        # Inputs to hidden layer linear transformation\n",
    "        self.hidden = nn.Linear(784, 256)\n",
    "        # Output layer, 10 units - one for each digit\n",
    "        self.output = nn.Linear(256, 10)\n",
    "        \n",
    "    def forward(self, x):\n",
    "        # Hidden layer with sigmoid activation\n",
    "        x = F.sigmoid(self.hidden(x))\n",
    "        # Output layer with softmax activation\n",
    "        x = F.softmax(self.output(x), dim=1)\n",
    "        \n",
    "        return x"
   ]
  },
  {
   "cell_type": "markdown",
   "metadata": {},
   "source": [
    "### Activation functions\n",
    "\n",
    "So far we've only been looking at the softmax activation, but in general any function can be used as an activation function. The only requirement is that for a network to approximate a non-linear function, the activation functions must be non-linear. Here are a few more examples of common activation functions: Tanh (hyperbolic tangent), and ReLU (rectified linear unit).\n",
    "\n",
    "<img src=\"assets/activation.png\" width=700px>\n",
    "\n",
    "In practice, the ReLU function is used almost exclusively as the activation function for hidden layers."
   ]
  },
  {
   "cell_type": "markdown",
   "metadata": {},
   "source": [
    "### Your Turn to Build a Network\n",
    "\n",
    "<img src=\"assets/mlp_mnist.png\" width=600px>\n",
    "\n",
    "> **Exercise:** Create a network with 784 input units, a hidden layer with 128 units and a ReLU activation, then a hidden layer with 64 units and a ReLU activation, and finally an output layer with a softmax activation as shown above. You can use a ReLU activation with the `nn.ReLU` module or `F.relu` function.\n",
    "\n",
    "It's good practice to name your layers by their type of network, for instance 'fc' to represent a fully-connected layer. As you code your solution, use `fc1`, `fc2`, and `fc3` as your layer names."
   ]
  },
  {
   "cell_type": "code",
   "execution_count": 12,
   "metadata": {
    "scrolled": true
   },
   "outputs": [
    {
     "data": {
      "text/plain": [
       "Network(\n",
       "  (fc1): Linear(in_features=784, out_features=128, bias=True)\n",
       "  (fc2): Linear(in_features=128, out_features=64, bias=True)\n",
       "  (fc3): Linear(in_features=64, out_features=10, bias=True)\n",
       ")"
      ]
     },
     "execution_count": 12,
     "metadata": {},
     "output_type": "execute_result"
    }
   ],
   "source": [
    "## Solution\n",
    "\n",
    "class Network(nn.Module):\n",
    "    def __init__(self):\n",
    "        super().__init__()\n",
    "        # Defining the layers, 128, 64, 10 units each\n",
    "        self.fc1 = nn.Linear(784, 128)\n",
    "        self.fc2 = nn.Linear(128, 64)\n",
    "        # Output layer, 10 units - one for each digit\n",
    "        self.fc3 = nn.Linear(64, 10)\n",
    "        \n",
    "    def forward(self, x):\n",
    "        ''' Forward pass through the network, returns the output logits '''\n",
    "        \n",
    "        x = self.fc1(x)\n",
    "        x = F.relu(x)\n",
    "        x = self.fc2(x)\n",
    "        x = F.relu(x)\n",
    "        x = self.fc3(x)\n",
    "        x = F.softmax(x, dim=1)\n",
    "        \n",
    "        return x\n",
    "\n",
    "model = Network()\n",
    "model"
   ]
  },
  {
   "cell_type": "markdown",
   "metadata": {},
   "source": [
    "### Initializing weights and biases\n",
    "\n",
    "The weights and such are automatically initialized for you, but it's possible to customize how they are initialized. The weights and biases are tensors attached to the layer you defined, you can get them with `model.fc1.weight` for instance."
   ]
  },
  {
   "cell_type": "code",
   "execution_count": 15,
   "metadata": {},
   "outputs": [
    {
     "name": "stdout",
     "output_type": "stream",
     "text": [
      "Parameter containing:\n",
      "tensor([[ 0.0032,  0.0325, -0.0231,  ...,  0.0102,  0.0046, -0.0308],\n",
      "        [ 0.0129, -0.0048, -0.0044,  ..., -0.0194, -0.0052, -0.0248],\n",
      "        [ 0.0022, -0.0097, -0.0233,  ..., -0.0098, -0.0006, -0.0288],\n",
      "        ...,\n",
      "        [-0.0341,  0.0108,  0.0031,  ...,  0.0001, -0.0072,  0.0271],\n",
      "        [-0.0142,  0.0351,  0.0292,  ..., -0.0145,  0.0133,  0.0037],\n",
      "        [-0.0090, -0.0041, -0.0015,  ..., -0.0102, -0.0159,  0.0150]],\n",
      "       requires_grad=True)\n",
      "torch.Size([128, 784])\n",
      "Parameter containing:\n",
      "tensor([ 0.0068,  0.0213, -0.0093,  0.0159,  0.0010,  0.0297, -0.0256,  0.0202,\n",
      "         0.0236, -0.0299,  0.0257,  0.0193,  0.0189,  0.0200, -0.0140,  0.0050,\n",
      "         0.0301,  0.0063, -0.0036,  0.0175,  0.0080, -0.0024,  0.0059, -0.0285,\n",
      "        -0.0129, -0.0297,  0.0332, -0.0243, -0.0124, -0.0307, -0.0271,  0.0356,\n",
      "        -0.0210,  0.0221, -0.0276,  0.0244,  0.0012, -0.0286,  0.0105, -0.0025,\n",
      "         0.0317, -0.0118,  0.0325,  0.0294, -0.0099, -0.0181,  0.0128, -0.0227,\n",
      "        -0.0293, -0.0062, -0.0234,  0.0134,  0.0122, -0.0193,  0.0004, -0.0243,\n",
      "        -0.0176,  0.0182,  0.0225, -0.0192, -0.0307,  0.0167, -0.0019, -0.0343,\n",
      "         0.0230,  0.0063, -0.0171,  0.0342, -0.0286, -0.0276, -0.0311,  0.0237,\n",
      "         0.0064,  0.0024, -0.0210,  0.0017,  0.0259, -0.0188,  0.0057, -0.0344,\n",
      "         0.0106, -0.0044,  0.0307, -0.0076,  0.0167,  0.0128, -0.0008,  0.0229,\n",
      "         0.0064,  0.0137,  0.0235, -0.0247, -0.0185, -0.0210, -0.0213,  0.0323,\n",
      "        -0.0096,  0.0187,  0.0192, -0.0043, -0.0250,  0.0344,  0.0187, -0.0166,\n",
      "        -0.0346,  0.0321, -0.0016,  0.0115,  0.0059,  0.0317,  0.0018,  0.0323,\n",
      "        -0.0027, -0.0160,  0.0138, -0.0317, -0.0019,  0.0290,  0.0074,  0.0052,\n",
      "        -0.0298,  0.0114, -0.0067,  0.0327, -0.0350,  0.0306, -0.0050, -0.0160],\n",
      "       requires_grad=True)\n",
      "torch.Size([128])\n"
     ]
    }
   ],
   "source": [
    "print(model.fc1.weight)\n",
    "print(model.fc1.weight.shape)\n",
    "print(model.fc1.bias)\n",
    "print(model.fc1.bias.shape)"
   ]
  },
  {
   "cell_type": "markdown",
   "metadata": {},
   "source": [
    "For custom initialization, we want to modify these tensors in place. These are actually autograd *Variables*, so we need to get back the actual tensors with `model.fc1.weight.data`. Once we have the tensors, we can fill them with zeros (for biases) or random normal values."
   ]
  },
  {
   "cell_type": "code",
   "execution_count": 13,
   "metadata": {},
   "outputs": [
    {
     "data": {
      "text/plain": [
       "tensor([ 0.,  0.,  0.,  0.,  0.,  0.,  0.,  0.,  0.,  0.,  0.,  0.,\n",
       "         0.,  0.,  0.,  0.,  0.,  0.,  0.,  0.,  0.,  0.,  0.,  0.,\n",
       "         0.,  0.,  0.,  0.,  0.,  0.,  0.,  0.,  0.,  0.,  0.,  0.,\n",
       "         0.,  0.,  0.,  0.,  0.,  0.,  0.,  0.,  0.,  0.,  0.,  0.,\n",
       "         0.,  0.,  0.,  0.,  0.,  0.,  0.,  0.,  0.,  0.,  0.,  0.,\n",
       "         0.,  0.,  0.,  0.,  0.,  0.,  0.,  0.,  0.,  0.,  0.,  0.,\n",
       "         0.,  0.,  0.,  0.,  0.,  0.,  0.,  0.,  0.,  0.,  0.,  0.,\n",
       "         0.,  0.,  0.,  0.,  0.,  0.,  0.,  0.,  0.,  0.,  0.,  0.,\n",
       "         0.,  0.,  0.,  0.,  0.,  0.,  0.,  0.,  0.,  0.,  0.,  0.,\n",
       "         0.,  0.,  0.,  0.,  0.,  0.,  0.,  0.,  0.,  0.,  0.,  0.,\n",
       "         0.,  0.,  0.,  0.,  0.,  0.,  0.,  0.])"
      ]
     },
     "execution_count": 13,
     "metadata": {},
     "output_type": "execute_result"
    }
   ],
   "source": [
    "# Set biases to all zeros\n",
    "model.fc1.bias.data.fill_(0)"
   ]
  },
  {
   "cell_type": "code",
   "execution_count": 14,
   "metadata": {},
   "outputs": [
    {
     "data": {
      "text/plain": [
       "tensor([[ 5.9294e-03,  9.6176e-04,  9.5034e-03,  ..., -1.2588e-03,\n",
       "          3.4878e-03,  1.4495e-02],\n",
       "        [-9.3127e-04, -1.0287e-02,  3.5423e-03,  ...,  1.1155e-02,\n",
       "          2.5012e-03,  1.3503e-02],\n",
       "        [-1.5078e-02,  8.1119e-03,  5.0678e-03,  ...,  2.8613e-03,\n",
       "          9.7443e-03, -6.5530e-03],\n",
       "        ...,\n",
       "        [-2.2938e-03, -1.8630e-02, -4.2459e-03,  ...,  1.4718e-02,\n",
       "          2.7655e-03,  3.2661e-03],\n",
       "        [-3.0470e-03,  1.2617e-02, -7.9772e-03,  ..., -1.4699e-02,\n",
       "         -9.1425e-03,  5.3492e-03],\n",
       "        [ 2.5911e-03,  2.4797e-03, -6.1172e-03,  ...,  1.0584e-02,\n",
       "         -1.0307e-02, -3.1901e-03]])"
      ]
     },
     "execution_count": 14,
     "metadata": {},
     "output_type": "execute_result"
    }
   ],
   "source": [
    "# sample from random normal with standard dev = 0.01\n",
    "model.fc1.weight.data.normal_(std=0.01)"
   ]
  },
  {
   "cell_type": "markdown",
   "metadata": {},
   "source": [
    "### Forward pass\n",
    "\n",
    "Now that we have a network, let's see what happens when we pass in an image."
   ]
  },
  {
   "cell_type": "code",
   "execution_count": 16,
   "metadata": {},
   "outputs": [
    {
     "data": {
      "image/png": "[encoded data removed]",
      "text/plain": [
       "<Figure size 432x648 with 2 Axes>"
      ]
     },
     "metadata": {
      "image/png": {
       "height": 235,
       "width": 424
      },
      "needs_background": "light"
     },
     "output_type": "display_data"
    }
   ],
   "source": [
    "# Grab some data \n",
    "dataiter = iter(trainloader)\n",
    "images, labels = dataiter.next()\n",
    "\n",
    "# Resize images into a 1D vector, new shape is (batch size, color channels, image pixels) \n",
    "images.resize_(64, 1, 784)\n",
    "# or images.resize_(images.shape[0], 1, 784) to automatically get batch size\n",
    "\n",
    "# Forward pass through the network\n",
    "img_idx = 0\n",
    "ps = model.forward(images[img_idx,:])\n",
    "\n",
    "img = images[img_idx]\n",
    "helper.view_classify(img.view(1, 28, 28), ps)"
   ]
  },
  {
   "cell_type": "markdown",
   "metadata": {},
   "source": [
    "As you can see above, our network has basically no idea what this digit is. It's because we haven't trained it yet, all the weights are random!\n",
    "\n",
    "### Using `nn.Sequential`\n",
    "\n",
    "PyTorch provides a convenient way to build networks like this where a tensor is passed sequentially through operations, `nn.Sequential` ([documentation](https://pytorch.org/docs/master/nn.html#torch.nn.Sequential)). Using this to build the equivalent network:"
   ]
  },
  {
   "cell_type": "code",
   "execution_count": 16,
   "metadata": {},
   "outputs": [
    {
     "name": "stdout",
     "output_type": "stream",
     "text": [
      "Sequential(\n",
      "  (0): Linear(in_features=784, out_features=128, bias=True)\n",
      "  (1): ReLU()\n",
      "  (2): Linear(in_features=128, out_features=64, bias=True)\n",
      "  (3): ReLU()\n",
      "  (4): Linear(in_features=64, out_features=10, bias=True)\n",
      "  (5): Softmax()\n",
      ")\n"
     ]
    },
    {
     "data": {
      "image/png": "[encoded data removed]",
      "text/plain": [
       "<Figure size 432x648 with 2 Axes>"
      ]
     },
     "metadata": {
      "image/png": {
       "height": 226,
       "width": 423
      },
      "needs_background": "light"
     },
     "output_type": "display_data"
    }
   ],
   "source": [
    "# Hyperparameters for our network\n",
    "input_size = 784\n",
    "hidden_sizes = [128, 64]\n",
    "output_size = 10\n",
    "\n",
    "# Build a feed-forward network\n",
    "model = nn.Sequential(nn.Linear(input_size, hidden_sizes[0]),\n",
    "                      nn.ReLU(),\n",
    "                      nn.Linear(hidden_sizes[0], hidden_sizes[1]),\n",
    "                      nn.ReLU(),\n",
    "                      nn.Linear(hidden_sizes[1], output_size),\n",
    "                      nn.Softmax(dim=1))\n",
    "print(model)\n",
    "\n",
    "# Forward pass through the network and display output\n",
    "images, labels = next(iter(trainloader))\n",
    "images.resize_(images.shape[0], 1, 784)\n",
    "ps = model.forward(images[0,:])\n",
    "helper.view_classify(images[0].view(1, 28, 28), ps)"
   ]
  },
  {
   "cell_type": "markdown",
   "metadata": {},
   "source": [
    "The operations are availble by passing in the appropriate index. For example, if you want to get first Linear operation and look at the weights, you'd use `model[0]`."
   ]
  },
  {
   "cell_type": "code",
   "execution_count": 17,
   "metadata": {},
   "outputs": [
    {
     "name": "stdout",
     "output_type": "stream",
     "text": [
      "Linear(in_features=784, out_features=128, bias=True)\n"
     ]
    },
    {
     "data": {
      "text/plain": [
       "Parameter containing:\n",
       "tensor([[-7.0372e-03,  2.9689e-02,  2.6028e-02,  ...,  1.1196e-02,\n",
       "         -2.1928e-02, -3.4886e-02],\n",
       "        [ 1.0624e-04, -1.6610e-02, -2.2891e-02,  ..., -6.4412e-03,\n",
       "         -2.5026e-02,  1.0674e-02],\n",
       "        [-2.4707e-02,  1.4146e-02,  2.0084e-02,  ...,  1.2227e-02,\n",
       "          2.3441e-02, -9.5175e-03],\n",
       "        ...,\n",
       "        [-2.0119e-02,  7.2614e-03, -1.3481e-02,  ...,  8.1745e-03,\n",
       "         -1.3348e-02, -1.1955e-02],\n",
       "        [ 3.2282e-02,  1.8674e-02, -3.0826e-02,  ...,  1.7296e-02,\n",
       "         -2.6710e-02, -3.0684e-02],\n",
       "        [ 1.7686e-02,  3.1376e-02, -2.2645e-02,  ...,  2.4630e-02,\n",
       "          3.1129e-02,  7.0939e-03]])"
      ]
     },
     "execution_count": 17,
     "metadata": {},
     "output_type": "execute_result"
    }
   ],
   "source": [
    "print(model[0])\n",
    "model[0].weight"
   ]
  },
  {
   "cell_type": "markdown",
   "metadata": {},
   "source": [
    "You can also pass in an `OrderedDict` to name the individual layers and operations, instead of using incremental integers. Note that dictionary keys must be unique, so _each operation must have a different name_."
   ]
  },
  {
   "cell_type": "code",
   "execution_count": 18,
   "metadata": {},
   "outputs": [
    {
     "data": {
      "text/plain": [
       "Sequential(\n",
       "  (fc1): Linear(in_features=784, out_features=128, bias=True)\n",
       "  (relu1): ReLU()\n",
       "  (fc2): Linear(in_features=128, out_features=64, bias=True)\n",
       "  (relu2): ReLU()\n",
       "  (output): Linear(in_features=64, out_features=10, bias=True)\n",
       "  (softmax): Softmax()\n",
       ")"
      ]
     },
     "execution_count": 18,
     "metadata": {},
     "output_type": "execute_result"
    }
   ],
   "source": [
    "from collections import OrderedDict\n",
    "model = nn.Sequential(OrderedDict([\n",
    "                      ('fc1', nn.Linear(input_size, hidden_sizes[0])),\n",
    "                      ('relu1', nn.ReLU()),\n",
    "                      ('fc2', nn.Linear(hidden_sizes[0], hidden_sizes[1])),\n",
    "                      ('relu2', nn.ReLU()),\n",
    "                      ('output', nn.Linear(hidden_sizes[1], output_size)),\n",
    "                      ('softmax', nn.Softmax(dim=1))]))\n",
    "model"
   ]
  },
  {
   "cell_type": "markdown",
   "metadata": {},
   "source": [
    "Now you can access layers either by integer or the name"
   ]
  },
  {
   "cell_type": "code",
   "execution_count": 19,
   "metadata": {},
   "outputs": [
    {
     "name": "stdout",
     "output_type": "stream",
     "text": [
      "Linear(in_features=784, out_features=128, bias=True)\n",
      "Linear(in_features=784, out_features=128, bias=True)\n"
     ]
    }
   ],
   "source": [
    "print(model[0])\n",
    "print(model.fc1)"
   ]
  },
  {
   "cell_type": "markdown",
   "metadata": {},
   "source": [
    "In the next notebook, we'll see how we can train a neural network to accuractly predict the numbers appearing in the MNIST images."
   ]
  }
 ],
 "metadata": {
  "kernelspec": {
   "display_name": "Python 3",
   "language": "python",
   "name": "python3"
  },
  "language_info": {
   "codemirror_mode": {
    "name": "ipython",
    "version": 3
   },
   "file_extension": ".py",
   "mimetype": "text/x-python",
   "name": "python",
   "nbconvert_exporter": "python",
   "pygments_lexer": "ipython3",
   "version": "3.8.2"
  }
 },
 "nbformat": 4,
 "nbformat_minor": 2
}
