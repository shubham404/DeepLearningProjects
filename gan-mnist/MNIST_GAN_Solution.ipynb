{
 "cells": [
  {
   "cell_type": "markdown",
   "metadata": {},
   "source": [
    "# Generative Adversarial Network\n",
    "\n",
    "In this notebook, we'll be building a generative adversarial network (GAN) trained on the MNIST dataset. From this, we'll be able to generate new handwritten digits!\n",
    "\n",
    "GANs were [first reported on](https://arxiv.org/abs/1406.2661) in 2014 from Ian Goodfellow and others in Yoshua Bengio's lab. Since then, GANs have exploded in popularity. Here are a few examples to check out:\n",
    "\n",
    "* [Pix2Pix](https://affinelayer.com/pixsrv/) \n",
    "* [CycleGAN & Pix2Pix in PyTorch, Jun-Yan Zhu](https://github.com/junyanz/pytorch-CycleGAN-and-pix2pix)\n",
    "* [A list of generative models](https://github.com/wiseodd/generative-models)\n",
    "\n",
    "The idea behind GANs is that you have two networks, a generator $G$ and a discriminator $D$, competing against each other. The generator makes \"fake\" data to pass to the discriminator. The discriminator also sees real training data and predicts if the data it's received is real or fake. \n",
    "> * The generator is trained to fool the discriminator, it wants to output data that looks _as close as possible_ to real, training data. \n",
    "* The discriminator is a classifier that is trained to figure out which data is real and which is fake. \n",
    "\n",
    "What ends up happening is that the generator learns to make data that is indistinguishable from real data to the discriminator.\n",
    "\n",
    "<img src='assets/gan_pipeline.png' width=70% />\n",
    "\n",
    "The general structure of a GAN is shown in the diagram above, using MNIST images as data. The latent sample is a random vector that the generator uses to construct its fake images. This is often called a **latent vector** and that vector space is called **latent space**. As the generator trains, it figures out how to map latent vectors to recognizable images that can fool the discriminator.\n",
    "\n",
    "If you're interested in generating only new images, you can throw out the discriminator after training. In this notebook, I'll show you how to define and train these adversarial networks in PyTorch and generate new images!"
   ]
  },
  {
   "cell_type": "code",
   "execution_count": 1,
   "metadata": {},
   "outputs": [],
   "source": [
    "%matplotlib inline\n",
    "\n",
    "import numpy as np\n",
    "import torch\n",
    "import matplotlib.pyplot as plt"
   ]
  },
  {
   "cell_type": "code",
   "execution_count": 2,
   "metadata": {},
   "outputs": [
    {
     "name": "stdout",
     "output_type": "stream",
     "text": [
      "Downloading http://yann.lecun.com/exdb/mnist/train-images-idx3-ubyte.gz to data/MNIST/raw/train-images-idx3-ubyte.gz\n"
     ]
    },
    {
     "name": "stderr",
     "output_type": "stream",
     "text": [
      "100.1%"
     ]
    },
    {
     "name": "stdout",
     "output_type": "stream",
     "text": [
      "Extracting data/MNIST/raw/train-images-idx3-ubyte.gz to data/MNIST/raw\n",
      "Downloading http://yann.lecun.com/exdb/mnist/train-labels-idx1-ubyte.gz to data/MNIST/raw/train-labels-idx1-ubyte.gz\n"
     ]
    },
    {
     "name": "stderr",
     "output_type": "stream",
     "text": [
      "113.5%"
     ]
    },
    {
     "name": "stdout",
     "output_type": "stream",
     "text": [
      "Extracting data/MNIST/raw/train-labels-idx1-ubyte.gz to data/MNIST/raw\n",
      "Downloading http://yann.lecun.com/exdb/mnist/t10k-images-idx3-ubyte.gz to data/MNIST/raw/t10k-images-idx3-ubyte.gz\n"
     ]
    },
    {
     "name": "stderr",
     "output_type": "stream",
     "text": [
      "100.4%"
     ]
    },
    {
     "name": "stdout",
     "output_type": "stream",
     "text": [
      "Extracting data/MNIST/raw/t10k-images-idx3-ubyte.gz to data/MNIST/raw\n",
      "Downloading http://yann.lecun.com/exdb/mnist/t10k-labels-idx1-ubyte.gz to data/MNIST/raw/t10k-labels-idx1-ubyte.gz\n"
     ]
    },
    {
     "name": "stderr",
     "output_type": "stream",
     "text": [
      "180.4%/opt/conda/conda-bld/pytorch_1587428207430/work/torch/csrc/utils/tensor_numpy.cpp:141: UserWarning: The given NumPy array is not writeable, and PyTorch does not support non-writeable tensors. This means you can write to the underlying (supposedly non-writeable) NumPy array using the tensor. You may want to copy the array to protect its data or make it writeable before converting it to a tensor. This type of warning will be suppressed for the rest of this program.\n"
     ]
    },
    {
     "name": "stdout",
     "output_type": "stream",
     "text": [
      "Extracting data/MNIST/raw/t10k-labels-idx1-ubyte.gz to data/MNIST/raw\n",
      "Processing...\n",
      "Done!\n"
     ]
    }
   ],
   "source": [
    "from torchvision import datasets\n",
    "import torchvision.transforms as transforms\n",
    "\n",
    "# number of subprocesses to use for data loading\n",
    "num_workers = 0\n",
    "# how many samples per batch to load\n",
    "batch_size = 64\n",
    "\n",
    "# convert data to torch.FloatTensor\n",
    "transform = transforms.ToTensor()\n",
    "\n",
    "# get the training datasets\n",
    "train_data = datasets.MNIST(root='data', train=True,\n",
    "                                   download=True, transform=transform)\n",
    "\n",
    "# prepare data loader\n",
    "train_loader = torch.utils.data.DataLoader(train_data, batch_size=batch_size,\n",
    "                                           num_workers=num_workers)"
   ]
  },
  {
   "cell_type": "markdown",
   "metadata": {},
   "source": [
    "### Visualize the data"
   ]
  },
  {
   "cell_type": "code",
   "execution_count": 3,
   "metadata": {},
   "outputs": [
    {
     "data": {
      "text/plain": [
       "<matplotlib.image.AxesImage at 0x7f660add2520>"
      ]
     },
     "execution_count": 3,
     "metadata": {},
     "output_type": "execute_result"
    },
    {
     "data": {
      "image/png": "[encoded data removed]",
      "text/plain": [
       "<Figure size 216x216 with 1 Axes>"
      ]
     },
     "metadata": {
      "needs_background": "light"
     },
     "output_type": "display_data"
    }
   ],
   "source": [
    "# obtain one batch of training images\n",
    "dataiter = iter(train_loader)\n",
    "images, labels = dataiter.next()\n",
    "images = images.numpy()\n",
    "\n",
    "# get one image from the batch\n",
    "img = np.squeeze(images[0])\n",
    "\n",
    "fig = plt.figure(figsize = (3,3)) \n",
    "ax = fig.add_subplot(111)\n",
    "ax.imshow(img, cmap='gray')"
   ]
  },
  {
   "cell_type": "markdown",
   "metadata": {},
   "source": [
    "---\n",
    "# Define the Model\n",
    "\n",
    "A GAN is comprised of two adversarial networks, a discriminator and a generator."
   ]
  },
  {
   "cell_type": "markdown",
   "metadata": {},
   "source": [
    "## Discriminator\n",
    "\n",
    "The discriminator network is going to be a pretty typical linear classifier. To make this network a universal function approximator, we'll need at least one hidden layer, and these hidden layers should have one key attribute:\n",
    "> All hidden layers will have a [Leaky ReLu](https://pytorch.org/docs/stable/nn.html#torch.nn.LeakyReLU) activation function applied to their outputs.\n",
    "\n",
    "<img src='assets/gan_network.png' width=70% />\n",
    "\n",
    "#### Leaky ReLu\n",
    "\n",
    "We should use a leaky ReLU to allow gradients to flow backwards through the layer unimpeded. A leaky ReLU is like a normal ReLU, except that there is a small non-zero output for negative input values.\n",
    "\n",
    "<img src='assets/leaky_relu.png' width=40% />\n",
    "\n",
    "#### Sigmoid Output\n",
    "\n",
    "We'll also take the approach of using a more numerically stable loss function on the outputs. Recall that we want the discriminator to output a value 0-1 indicating whether an image is _real or fake_. \n",
    "> We will ultimately use [BCEWithLogitsLoss](https://pytorch.org/docs/stable/nn.html#bcewithlogitsloss), which combines a `sigmoid` activation function **and** and binary cross entropy loss in one function. \n",
    "\n",
    "So, our final output layer should not have any activation function applied to it."
   ]
  },
  {
   "cell_type": "code",
   "execution_count": 4,
   "metadata": {},
   "outputs": [],
   "source": [
    "import torch.nn as nn\n",
    "import torch.nn.functional as F\n",
    "\n",
    "class Discriminator(nn.Module):\n",
    "\n",
    "    def __init__(self, input_size, hidden_dim, output_size):\n",
    "        super(Discriminator, self).__init__()\n",
    "        \n",
    "        # define hidden linear layers\n",
    "        self.fc1 = nn.Linear(input_size, hidden_dim*4)\n",
    "        self.fc2 = nn.Linear(hidden_dim*4, hidden_dim*2)\n",
    "        self.fc3 = nn.Linear(hidden_dim*2, hidden_dim)\n",
    "        \n",
    "        # final fully-connected layer\n",
    "        self.fc4 = nn.Linear(hidden_dim, output_size)\n",
    "        \n",
    "        # dropout layer \n",
    "        self.dropout = nn.Dropout(0.3)\n",
    "        \n",
    "        \n",
    "    def forward(self, x):\n",
    "        # flatten image\n",
    "        x = x.view(-1, 28*28)\n",
    "        # all hidden layers\n",
    "        x = F.leaky_relu(self.fc1(x), 0.2) # (input, negative_slope=0.2)\n",
    "        x = self.dropout(x)\n",
    "        x = F.leaky_relu(self.fc2(x), 0.2)\n",
    "        x = self.dropout(x)\n",
    "        x = F.leaky_relu(self.fc3(x), 0.2)\n",
    "        x = self.dropout(x)\n",
    "        # final layer\n",
    "        out = self.fc4(x)\n",
    "\n",
    "        return out\n"
   ]
  },
  {
   "cell_type": "markdown",
   "metadata": {},
   "source": [
    "## Generator\n",
    "\n",
    "The generator network will be almost exactly the same as the discriminator network, except that we're applying a [tanh activation function](https://pytorch.org/docs/stable/nn.html#tanh) to our output layer.\n",
    "\n",
    "#### tanh Output\n",
    "The generator has been found to perform the best with $tanh$ for the generator output, which scales the output to be between -1 and 1, instead of 0 and 1. \n",
    "\n",
    "<img src='assets/tanh_fn.png' width=40% />\n",
    "\n",
    "Recall that we also want these outputs to be comparable to the *real* input pixel values, which are read in as normalized values between 0 and 1. \n",
    "> So, we'll also have to **scale our real input images to have pixel values between -1 and 1** when we train the discriminator. \n",
    "\n",
    "I'll do this in the training loop, later on."
   ]
  },
  {
   "cell_type": "code",
   "execution_count": 5,
   "metadata": {},
   "outputs": [],
   "source": [
    "class Generator(nn.Module):\n",
    "\n",
    "    def __init__(self, input_size, hidden_dim, output_size):\n",
    "        super(Generator, self).__init__()\n",
    "        \n",
    "        # define hidden linear layers\n",
    "        self.fc1 = nn.Linear(input_size, hidden_dim)\n",
    "        self.fc2 = nn.Linear(hidden_dim, hidden_dim*2)\n",
    "        self.fc3 = nn.Linear(hidden_dim*2, hidden_dim*4)\n",
    "        \n",
    "        # final fully-connected layer\n",
    "        self.fc4 = nn.Linear(hidden_dim*4, output_size)\n",
    "        \n",
    "        # dropout layer \n",
    "        self.dropout = nn.Dropout(0.3)\n",
    "\n",
    "    def forward(self, x):\n",
    "        # all hidden layers\n",
    "        x = F.leaky_relu(self.fc1(x), 0.2) # (input, negative_slope=0.2)\n",
    "        x = self.dropout(x)\n",
    "        x = F.leaky_relu(self.fc2(x), 0.2)\n",
    "        x = self.dropout(x)\n",
    "        x = F.leaky_relu(self.fc3(x), 0.2)\n",
    "        x = self.dropout(x)\n",
    "        # final layer with tanh applied\n",
    "        out = F.tanh(self.fc4(x))\n",
    "\n",
    "        return out"
   ]
  },
  {
   "cell_type": "markdown",
   "metadata": {},
   "source": [
    "## Model hyperparameters"
   ]
  },
  {
   "cell_type": "code",
   "execution_count": 6,
   "metadata": {},
   "outputs": [],
   "source": [
    "# Discriminator hyperparams\n",
    "\n",
    "# Size of input image to discriminator (28*28)\n",
    "input_size = 784\n",
    "# Size of discriminator output (real or fake)\n",
    "d_output_size = 1\n",
    "# Size of last hidden layer in the discriminator\n",
    "d_hidden_size = 32\n",
    "\n",
    "# Generator hyperparams\n",
    "\n",
    "# Size of latent vector to give to generator\n",
    "z_size = 100\n",
    "# Size of discriminator output (generated image)\n",
    "g_output_size = 784\n",
    "# Size of first hidden layer in the generator\n",
    "g_hidden_size = 32"
   ]
  },
  {
   "cell_type": "markdown",
   "metadata": {},
   "source": [
    "## Build complete network\n",
    "\n",
    "Now we're instantiating the discriminator and generator from the classes defined above. Make sure you've passed in the correct input arguments."
   ]
  },
  {
   "cell_type": "code",
   "execution_count": 7,
   "metadata": {},
   "outputs": [
    {
     "name": "stdout",
     "output_type": "stream",
     "text": [
      "Discriminator(\n",
      "  (fc1): Linear(in_features=784, out_features=128, bias=True)\n",
      "  (fc2): Linear(in_features=128, out_features=64, bias=True)\n",
      "  (fc3): Linear(in_features=64, out_features=32, bias=True)\n",
      "  (fc4): Linear(in_features=32, out_features=1, bias=True)\n",
      "  (dropout): Dropout(p=0.3, inplace=False)\n",
      ")\n",
      "\n",
      "Generator(\n",
      "  (fc1): Linear(in_features=100, out_features=32, bias=True)\n",
      "  (fc2): Linear(in_features=32, out_features=64, bias=True)\n",
      "  (fc3): Linear(in_features=64, out_features=128, bias=True)\n",
      "  (fc4): Linear(in_features=128, out_features=784, bias=True)\n",
      "  (dropout): Dropout(p=0.3, inplace=False)\n",
      ")\n"
     ]
    }
   ],
   "source": [
    "# instantiate discriminator and generator\n",
    "D = Discriminator(input_size, d_hidden_size, d_output_size)\n",
    "G = Generator(z_size, g_hidden_size, g_output_size)\n",
    "\n",
    "# check that they are as you expect\n",
    "print(D)\n",
    "print()\n",
    "print(G)"
   ]
  },
  {
   "cell_type": "markdown",
   "metadata": {},
   "source": [
    "---\n",
    "## Discriminator and Generator Losses\n",
    "\n",
    "Now we need to calculate the losses. \n",
    "\n",
    "### Discriminator Losses\n",
    "\n",
    "> * For the discriminator, the total loss is the sum of the losses for real and fake images, `d_loss = d_real_loss + d_fake_loss`. \n",
    "* Remember that we want the discriminator to output 1 for real images and 0 for fake images, so we need to set up the losses to reflect that.\n",
    "\n",
    "<img src='assets/gan_pipeline.png' width=70% />\n",
    "\n",
    "The losses will by binary cross entropy loss with logits, which we can get with [BCEWithLogitsLoss](https://pytorch.org/docs/stable/nn.html#bcewithlogitsloss). This combines a `sigmoid` activation function **and** and binary cross entropy loss in one function.\n",
    "\n",
    "For the real images, we want `D(real_images) = 1`. That is, we want the discriminator to classify the the real images with a label = 1, indicating that these are real. To help the discriminator generalize better, the labels are **reduced a bit from 1.0 to 0.9**. For this, we'll use the parameter `smooth`; if True, then we should smooth our labels. In PyTorch, this looks like `labels = torch.ones(size) * 0.9`\n",
    "\n",
    "The discriminator loss for the fake data is similar. We want `D(fake_images) = 0`, where the fake images are the _generator output_, `fake_images = G(z)`. \n",
    "\n",
    "### Generator Loss\n",
    "\n",
    "The generator loss will look similar only with flipped labels. The generator's goal is to get `D(fake_images) = 1`. In this case, the labels are **flipped** to represent that the generator is trying to fool the discriminator into thinking that the images it generates (fakes) are real!"
   ]
  },
  {
   "cell_type": "code",
   "execution_count": 8,
   "metadata": {},
   "outputs": [],
   "source": [
    "# Calculate losses\n",
    "def real_loss(D_out, smooth=False):\n",
    "    batch_size = D_out.size(0)\n",
    "    # label smoothing\n",
    "    if smooth:\n",
    "        # smooth, real labels = 0.9\n",
    "        labels = torch.ones(batch_size)*0.9\n",
    "    else:\n",
    "        labels = torch.ones(batch_size) # real labels = 1\n",
    "        \n",
    "    # numerically stable loss\n",
    "    criterion = nn.BCEWithLogitsLoss()\n",
    "    # calculate loss\n",
    "    loss = criterion(D_out.squeeze(), labels)\n",
    "    return loss\n",
    "\n",
    "def fake_loss(D_out):\n",
    "    batch_size = D_out.size(0)\n",
    "    labels = torch.zeros(batch_size) # fake labels = 0\n",
    "    criterion = nn.BCEWithLogitsLoss()\n",
    "    # calculate loss\n",
    "    loss = criterion(D_out.squeeze(), labels)\n",
    "    return loss"
   ]
  },
  {
   "cell_type": "markdown",
   "metadata": {},
   "source": [
    "## Optimizers\n",
    "\n",
    "We want to update the generator and discriminator variables separately. So, we'll define two separate Adam optimizers."
   ]
  },
  {
   "cell_type": "code",
   "execution_count": 9,
   "metadata": {
    "scrolled": true
   },
   "outputs": [],
   "source": [
    "import torch.optim as optim\n",
    "\n",
    "# Optimizers\n",
    "lr = 0.002\n",
    "\n",
    "# Create optimizers for the discriminator and generator\n",
    "d_optimizer = optim.Adam(D.parameters(), lr)\n",
    "g_optimizer = optim.Adam(G.parameters(), lr)"
   ]
  },
  {
   "cell_type": "markdown",
   "metadata": {},
   "source": [
    "---\n",
    "## Training\n",
    "\n",
    "Training will involve alternating between training the discriminator and the generator. We'll use our functions `real_loss` and `fake_loss` to help us calculate the discriminator losses in all of the following cases.\n",
    "\n",
    "### Discriminator training\n",
    "1. Compute the discriminator loss on real, training images        \n",
    "2. Generate fake images\n",
    "3. Compute the discriminator loss on fake, generated images     \n",
    "4. Add up real and fake loss\n",
    "5. Perform backpropagation + an optimization step to update the discriminator's weights\n",
    "\n",
    "### Generator training\n",
    "1. Generate fake images\n",
    "2. Compute the discriminator loss on fake images, using **flipped** labels!\n",
    "3. Perform backpropagation + an optimization step to update the generator's weights\n",
    "\n",
    "#### Saving Samples\n",
    "\n",
    "As we train, we'll also print out some loss statistics and save some generated \"fake\" samples."
   ]
  },
  {
   "cell_type": "code",
   "execution_count": 10,
   "metadata": {
    "scrolled": true
   },
   "outputs": [
    {
     "name": "stderr",
     "output_type": "stream",
     "text": [
      "/home/shubham/anaconda3/envs/pytorch/lib/python3.8/site-packages/torch/nn/functional.py:1558: UserWarning: nn.functional.tanh is deprecated. Use torch.tanh instead.\n",
      "  warnings.warn(\"nn.functional.tanh is deprecated. Use torch.tanh instead.\")\n"
     ]
    },
    {
     "name": "stdout",
     "output_type": "stream",
     "text": [
      "Epoch [    1/  100] | d_loss: 1.4014 | g_loss: 0.6668\n",
      "Epoch [    1/  100] | d_loss: 0.9803 | g_loss: 2.5843\n",
      "Epoch [    1/  100] | d_loss: 1.6378 | g_loss: 0.5274\n",
      "Epoch [    2/  100] | d_loss: 1.1634 | g_loss: 2.8679\n",
      "Epoch [    2/  100] | d_loss: 1.5326 | g_loss: 0.7246\n",
      "Epoch [    2/  100] | d_loss: 1.0046 | g_loss: 1.6947\n",
      "Epoch [    3/  100] | d_loss: 1.0736 | g_loss: 2.1176\n",
      "Epoch [    3/  100] | d_loss: 0.7853 | g_loss: 3.0325\n",
      "Epoch [    3/  100] | d_loss: 0.9779 | g_loss: 1.8937\n",
      "Epoch [    4/  100] | d_loss: 1.1320 | g_loss: 2.0411\n",
      "Epoch [    4/  100] | d_loss: 0.9203 | g_loss: 2.4590\n",
      "Epoch [    4/  100] | d_loss: 1.1209 | g_loss: 1.5681\n",
      "Epoch [    5/  100] | d_loss: 1.2241 | g_loss: 0.8678\n",
      "Epoch [    5/  100] | d_loss: 1.2205 | g_loss: 1.7552\n",
      "Epoch [    5/  100] | d_loss: 1.2222 | g_loss: 1.4128\n",
      "Epoch [    6/  100] | d_loss: 1.3608 | g_loss: 1.8533\n",
      "Epoch [    6/  100] | d_loss: 1.2212 | g_loss: 1.4237\n",
      "Epoch [    6/  100] | d_loss: 1.2234 | g_loss: 1.3479\n",
      "Epoch [    7/  100] | d_loss: 1.1488 | g_loss: 1.2438\n",
      "Epoch [    7/  100] | d_loss: 1.1937 | g_loss: 1.3080\n",
      "Epoch [    7/  100] | d_loss: 1.3904 | g_loss: 1.1432\n",
      "Epoch [    8/  100] | d_loss: 1.4154 | g_loss: 0.6405\n",
      "Epoch [    8/  100] | d_loss: 1.0896 | g_loss: 1.4365\n",
      "Epoch [    8/  100] | d_loss: 1.2907 | g_loss: 1.1908\n",
      "Epoch [    9/  100] | d_loss: 1.3660 | g_loss: 0.9142\n",
      "Epoch [    9/  100] | d_loss: 1.3262 | g_loss: 1.2322\n",
      "Epoch [    9/  100] | d_loss: 1.0958 | g_loss: 1.4884\n",
      "Epoch [   10/  100] | d_loss: 1.1942 | g_loss: 1.3541\n",
      "Epoch [   10/  100] | d_loss: 1.1484 | g_loss: 1.2049\n",
      "Epoch [   10/  100] | d_loss: 1.3477 | g_loss: 0.9124\n",
      "Epoch [   11/  100] | d_loss: 1.1756 | g_loss: 1.0845\n",
      "Epoch [   11/  100] | d_loss: 1.2470 | g_loss: 1.0951\n",
      "Epoch [   11/  100] | d_loss: 1.2744 | g_loss: 1.1724\n",
      "Epoch [   12/  100] | d_loss: 1.2605 | g_loss: 1.3250\n",
      "Epoch [   12/  100] | d_loss: 1.2266 | g_loss: 0.8429\n",
      "Epoch [   12/  100] | d_loss: 1.3125 | g_loss: 0.8915\n",
      "Epoch [   13/  100] | d_loss: 1.2550 | g_loss: 1.0240\n",
      "Epoch [   13/  100] | d_loss: 1.1515 | g_loss: 1.2719\n",
      "Epoch [   13/  100] | d_loss: 1.1653 | g_loss: 1.4462\n",
      "Epoch [   14/  100] | d_loss: 1.2457 | g_loss: 1.1639\n",
      "Epoch [   14/  100] | d_loss: 1.3312 | g_loss: 1.2134\n",
      "Epoch [   14/  100] | d_loss: 1.2611 | g_loss: 0.8946\n",
      "Epoch [   15/  100] | d_loss: 1.2607 | g_loss: 1.0045\n",
      "Epoch [   15/  100] | d_loss: 1.3006 | g_loss: 0.7776\n",
      "Epoch [   15/  100] | d_loss: 1.3570 | g_loss: 0.8782\n",
      "Epoch [   16/  100] | d_loss: 1.3225 | g_loss: 1.0965\n",
      "Epoch [   16/  100] | d_loss: 1.1767 | g_loss: 1.4292\n",
      "Epoch [   16/  100] | d_loss: 1.1860 | g_loss: 1.2651\n",
      "Epoch [   17/  100] | d_loss: 1.2576 | g_loss: 1.0401\n",
      "Epoch [   17/  100] | d_loss: 1.1997 | g_loss: 0.9848\n",
      "Epoch [   17/  100] | d_loss: 1.3145 | g_loss: 0.8082\n",
      "Epoch [   18/  100] | d_loss: 1.3096 | g_loss: 0.9370\n",
      "Epoch [   18/  100] | d_loss: 1.1854 | g_loss: 1.2428\n",
      "Epoch [   18/  100] | d_loss: 1.3216 | g_loss: 1.2541\n",
      "Epoch [   19/  100] | d_loss: 1.2322 | g_loss: 1.2344\n",
      "Epoch [   19/  100] | d_loss: 1.2800 | g_loss: 1.0078\n",
      "Epoch [   19/  100] | d_loss: 1.3064 | g_loss: 0.9945\n",
      "Epoch [   20/  100] | d_loss: 1.2626 | g_loss: 0.9073\n",
      "Epoch [   20/  100] | d_loss: 1.2535 | g_loss: 1.4051\n",
      "Epoch [   20/  100] | d_loss: 1.2332 | g_loss: 1.2487\n",
      "Epoch [   21/  100] | d_loss: 1.3640 | g_loss: 1.5293\n",
      "Epoch [   21/  100] | d_loss: 1.2565 | g_loss: 0.9978\n",
      "Epoch [   21/  100] | d_loss: 1.3466 | g_loss: 1.2834\n",
      "Epoch [   22/  100] | d_loss: 1.2199 | g_loss: 0.9999\n",
      "Epoch [   22/  100] | d_loss: 1.1698 | g_loss: 1.3925\n",
      "Epoch [   22/  100] | d_loss: 1.2591 | g_loss: 1.1945\n",
      "Epoch [   23/  100] | d_loss: 1.2938 | g_loss: 0.8991\n",
      "Epoch [   23/  100] | d_loss: 1.5285 | g_loss: 0.9332\n",
      "Epoch [   23/  100] | d_loss: 1.2662 | g_loss: 1.0226\n",
      "Epoch [   24/  100] | d_loss: 1.2879 | g_loss: 1.0492\n",
      "Epoch [   24/  100] | d_loss: 1.1670 | g_loss: 1.5118\n",
      "Epoch [   24/  100] | d_loss: 1.2541 | g_loss: 1.2594\n",
      "Epoch [   25/  100] | d_loss: 1.2566 | g_loss: 1.1260\n",
      "Epoch [   25/  100] | d_loss: 1.2724 | g_loss: 0.9747\n",
      "Epoch [   25/  100] | d_loss: 1.3604 | g_loss: 0.9905\n",
      "Epoch [   26/  100] | d_loss: 1.1439 | g_loss: 1.7203\n",
      "Epoch [   26/  100] | d_loss: 1.1092 | g_loss: 1.2491\n",
      "Epoch [   26/  100] | d_loss: 1.3431 | g_loss: 0.9933\n",
      "Epoch [   27/  100] | d_loss: 1.1755 | g_loss: 1.2523\n",
      "Epoch [   27/  100] | d_loss: 1.2642 | g_loss: 0.8499\n",
      "Epoch [   27/  100] | d_loss: 1.3630 | g_loss: 0.8346\n",
      "Epoch [   28/  100] | d_loss: 1.3020 | g_loss: 0.8233\n",
      "Epoch [   28/  100] | d_loss: 1.2494 | g_loss: 1.0689\n",
      "Epoch [   28/  100] | d_loss: 1.4110 | g_loss: 0.9895\n",
      "Epoch [   29/  100] | d_loss: 1.3292 | g_loss: 1.0540\n",
      "Epoch [   29/  100] | d_loss: 1.2733 | g_loss: 1.1441\n",
      "Epoch [   29/  100] | d_loss: 1.2854 | g_loss: 0.9909\n",
      "Epoch [   30/  100] | d_loss: 1.2838 | g_loss: 1.0620\n",
      "Epoch [   30/  100] | d_loss: 1.2240 | g_loss: 0.9608\n",
      "Epoch [   30/  100] | d_loss: 1.2042 | g_loss: 1.1337\n",
      "Epoch [   31/  100] | d_loss: 1.2731 | g_loss: 1.0961\n",
      "Epoch [   31/  100] | d_loss: 1.3313 | g_loss: 1.1898\n",
      "Epoch [   31/  100] | d_loss: 1.2986 | g_loss: 1.1145\n",
      "Epoch [   32/  100] | d_loss: 1.3374 | g_loss: 0.8646\n",
      "Epoch [   32/  100] | d_loss: 1.2383 | g_loss: 1.0232\n",
      "Epoch [   32/  100] | d_loss: 1.1919 | g_loss: 0.9933\n",
      "Epoch [   33/  100] | d_loss: 1.3116 | g_loss: 1.0955\n",
      "Epoch [   33/  100] | d_loss: 1.4123 | g_loss: 0.8690\n",
      "Epoch [   33/  100] | d_loss: 1.3278 | g_loss: 1.3881\n",
      "Epoch [   34/  100] | d_loss: 1.1439 | g_loss: 1.5228\n",
      "Epoch [   34/  100] | d_loss: 1.3018 | g_loss: 1.1642\n",
      "Epoch [   34/  100] | d_loss: 1.2864 | g_loss: 0.9857\n",
      "Epoch [   35/  100] | d_loss: 1.2695 | g_loss: 1.1047\n",
      "Epoch [   35/  100] | d_loss: 1.3818 | g_loss: 1.1837\n",
      "Epoch [   35/  100] | d_loss: 1.2318 | g_loss: 0.9964\n",
      "Epoch [   36/  100] | d_loss: 1.2999 | g_loss: 0.9062\n",
      "Epoch [   36/  100] | d_loss: 1.2035 | g_loss: 0.9985\n",
      "Epoch [   36/  100] | d_loss: 1.3301 | g_loss: 0.8853\n",
      "Epoch [   37/  100] | d_loss: 1.2572 | g_loss: 0.9471\n",
      "Epoch [   37/  100] | d_loss: 1.2025 | g_loss: 0.8460\n",
      "Epoch [   37/  100] | d_loss: 1.2537 | g_loss: 0.8332\n",
      "Epoch [   38/  100] | d_loss: 1.4150 | g_loss: 1.8700\n",
      "Epoch [   38/  100] | d_loss: 1.2261 | g_loss: 1.0857\n",
      "Epoch [   38/  100] | d_loss: 1.2711 | g_loss: 0.9362\n",
      "Epoch [   39/  100] | d_loss: 1.2510 | g_loss: 1.2472\n",
      "Epoch [   39/  100] | d_loss: 1.2553 | g_loss: 1.1617\n",
      "Epoch [   39/  100] | d_loss: 1.2901 | g_loss: 0.7970\n",
      "Epoch [   40/  100] | d_loss: 1.2840 | g_loss: 1.1327\n",
      "Epoch [   40/  100] | d_loss: 1.2882 | g_loss: 1.0060\n",
      "Epoch [   40/  100] | d_loss: 1.3702 | g_loss: 1.0858\n",
      "Epoch [   41/  100] | d_loss: 1.2239 | g_loss: 1.2170\n",
      "Epoch [   41/  100] | d_loss: 1.2723 | g_loss: 0.7945\n",
      "Epoch [   41/  100] | d_loss: 1.4166 | g_loss: 1.1516\n",
      "Epoch [   42/  100] | d_loss: 1.3082 | g_loss: 0.8420\n",
      "Epoch [   42/  100] | d_loss: 1.2341 | g_loss: 1.0559\n",
      "Epoch [   42/  100] | d_loss: 1.4014 | g_loss: 0.9141\n",
      "Epoch [   43/  100] | d_loss: 1.3469 | g_loss: 1.0164\n",
      "Epoch [   43/  100] | d_loss: 1.2610 | g_loss: 0.8799\n",
      "Epoch [   43/  100] | d_loss: 1.2985 | g_loss: 0.9946\n",
      "Epoch [   44/  100] | d_loss: 1.2462 | g_loss: 1.0257\n",
      "Epoch [   44/  100] | d_loss: 1.2448 | g_loss: 0.9416\n",
      "Epoch [   44/  100] | d_loss: 1.3694 | g_loss: 1.0660\n",
      "Epoch [   45/  100] | d_loss: 1.1714 | g_loss: 1.2070\n",
      "Epoch [   45/  100] | d_loss: 1.3097 | g_loss: 0.9051\n",
      "Epoch [   45/  100] | d_loss: 1.2313 | g_loss: 1.0729\n",
      "Epoch [   46/  100] | d_loss: 1.3134 | g_loss: 1.0200\n",
      "Epoch [   46/  100] | d_loss: 1.2795 | g_loss: 1.0110\n",
      "Epoch [   46/  100] | d_loss: 1.3437 | g_loss: 1.0521\n",
      "Epoch [   47/  100] | d_loss: 1.3594 | g_loss: 0.9344\n",
      "Epoch [   47/  100] | d_loss: 1.3538 | g_loss: 0.9698\n",
      "Epoch [   47/  100] | d_loss: 1.2744 | g_loss: 1.0477\n",
      "Epoch [   48/  100] | d_loss: 1.2541 | g_loss: 0.8766\n",
      "Epoch [   48/  100] | d_loss: 1.2720 | g_loss: 0.9551\n",
      "Epoch [   48/  100] | d_loss: 1.3022 | g_loss: 0.8862\n",
      "Epoch [   49/  100] | d_loss: 1.2095 | g_loss: 1.0986\n",
      "Epoch [   49/  100] | d_loss: 1.1876 | g_loss: 1.3004\n",
      "Epoch [   49/  100] | d_loss: 1.2423 | g_loss: 1.3056\n",
      "Epoch [   50/  100] | d_loss: 1.1713 | g_loss: 0.8726\n",
      "Epoch [   50/  100] | d_loss: 1.2682 | g_loss: 0.9838\n",
      "Epoch [   50/  100] | d_loss: 1.2985 | g_loss: 0.8937\n",
      "Epoch [   51/  100] | d_loss: 1.2747 | g_loss: 1.0712\n",
      "Epoch [   51/  100] | d_loss: 1.2670 | g_loss: 0.8817\n"
     ]
    },
    {
     "name": "stdout",
     "output_type": "stream",
     "text": [
      "Epoch [   51/  100] | d_loss: 1.3040 | g_loss: 1.1096\n",
      "Epoch [   52/  100] | d_loss: 1.3309 | g_loss: 1.1247\n",
      "Epoch [   52/  100] | d_loss: 1.2166 | g_loss: 1.2023\n",
      "Epoch [   52/  100] | d_loss: 1.1748 | g_loss: 1.2339\n",
      "Epoch [   53/  100] | d_loss: 1.2446 | g_loss: 1.6120\n",
      "Epoch [   53/  100] | d_loss: 1.3490 | g_loss: 1.2056\n",
      "Epoch [   53/  100] | d_loss: 1.2161 | g_loss: 1.1066\n",
      "Epoch [   54/  100] | d_loss: 1.2546 | g_loss: 0.9302\n",
      "Epoch [   54/  100] | d_loss: 1.2513 | g_loss: 1.0061\n",
      "Epoch [   54/  100] | d_loss: 1.3637 | g_loss: 1.0663\n",
      "Epoch [   55/  100] | d_loss: 1.2008 | g_loss: 1.0010\n",
      "Epoch [   55/  100] | d_loss: 1.3125 | g_loss: 1.1382\n",
      "Epoch [   55/  100] | d_loss: 1.2956 | g_loss: 0.8545\n",
      "Epoch [   56/  100] | d_loss: 1.2608 | g_loss: 0.8477\n",
      "Epoch [   56/  100] | d_loss: 1.2053 | g_loss: 1.3286\n",
      "Epoch [   56/  100] | d_loss: 1.3503 | g_loss: 1.1493\n",
      "Epoch [   57/  100] | d_loss: 1.2458 | g_loss: 0.8238\n",
      "Epoch [   57/  100] | d_loss: 1.2434 | g_loss: 0.9500\n",
      "Epoch [   57/  100] | d_loss: 1.3126 | g_loss: 1.1214\n",
      "Epoch [   58/  100] | d_loss: 1.3357 | g_loss: 0.8717\n",
      "Epoch [   58/  100] | d_loss: 1.2733 | g_loss: 1.1596\n",
      "Epoch [   58/  100] | d_loss: 1.3172 | g_loss: 1.0346\n",
      "Epoch [   59/  100] | d_loss: 1.2971 | g_loss: 1.0132\n",
      "Epoch [   59/  100] | d_loss: 1.2427 | g_loss: 1.0618\n",
      "Epoch [   59/  100] | d_loss: 1.2086 | g_loss: 1.2176\n",
      "Epoch [   60/  100] | d_loss: 1.3042 | g_loss: 0.8465\n",
      "Epoch [   60/  100] | d_loss: 1.3165 | g_loss: 1.0056\n",
      "Epoch [   60/  100] | d_loss: 1.3206 | g_loss: 1.0345\n",
      "Epoch [   61/  100] | d_loss: 1.3927 | g_loss: 0.9811\n",
      "Epoch [   61/  100] | d_loss: 1.2202 | g_loss: 0.9583\n",
      "Epoch [   61/  100] | d_loss: 1.2224 | g_loss: 1.1407\n",
      "Epoch [   62/  100] | d_loss: 1.2439 | g_loss: 0.9606\n",
      "Epoch [   62/  100] | d_loss: 1.2911 | g_loss: 0.9891\n",
      "Epoch [   62/  100] | d_loss: 1.3480 | g_loss: 1.0981\n",
      "Epoch [   63/  100] | d_loss: 1.1747 | g_loss: 1.4693\n",
      "Epoch [   63/  100] | d_loss: 1.2060 | g_loss: 0.9999\n",
      "Epoch [   63/  100] | d_loss: 1.3930 | g_loss: 0.9579\n",
      "Epoch [   64/  100] | d_loss: 1.2733 | g_loss: 1.3639\n",
      "Epoch [   64/  100] | d_loss: 1.2043 | g_loss: 1.7016\n",
      "Epoch [   64/  100] | d_loss: 1.2982 | g_loss: 0.9443\n",
      "Epoch [   65/  100] | d_loss: 1.3158 | g_loss: 1.2025\n",
      "Epoch [   65/  100] | d_loss: 1.3317 | g_loss: 0.9081\n",
      "Epoch [   65/  100] | d_loss: 1.4201 | g_loss: 0.9976\n",
      "Epoch [   66/  100] | d_loss: 1.2465 | g_loss: 1.0892\n",
      "Epoch [   66/  100] | d_loss: 1.3645 | g_loss: 1.0082\n",
      "Epoch [   66/  100] | d_loss: 1.2769 | g_loss: 0.9040\n",
      "Epoch [   67/  100] | d_loss: 1.2768 | g_loss: 1.5916\n",
      "Epoch [   67/  100] | d_loss: 1.2873 | g_loss: 1.0830\n",
      "Epoch [   67/  100] | d_loss: 1.3882 | g_loss: 0.9689\n",
      "Epoch [   68/  100] | d_loss: 1.2797 | g_loss: 0.9941\n",
      "Epoch [   68/  100] | d_loss: 1.3861 | g_loss: 0.9019\n",
      "Epoch [   68/  100] | d_loss: 1.3135 | g_loss: 1.0937\n",
      "Epoch [   69/  100] | d_loss: 1.2777 | g_loss: 1.4105\n",
      "Epoch [   69/  100] | d_loss: 1.2921 | g_loss: 0.9284\n",
      "Epoch [   69/  100] | d_loss: 1.2064 | g_loss: 1.2745\n",
      "Epoch [   70/  100] | d_loss: 1.2164 | g_loss: 1.2931\n",
      "Epoch [   70/  100] | d_loss: 1.3389 | g_loss: 1.0117\n",
      "Epoch [   70/  100] | d_loss: 1.4028 | g_loss: 1.0350\n",
      "Epoch [   71/  100] | d_loss: 1.2545 | g_loss: 1.0878\n",
      "Epoch [   71/  100] | d_loss: 1.3470 | g_loss: 0.9623\n",
      "Epoch [   71/  100] | d_loss: 1.2084 | g_loss: 1.1093\n",
      "Epoch [   72/  100] | d_loss: 1.1286 | g_loss: 1.2259\n",
      "Epoch [   72/  100] | d_loss: 1.2201 | g_loss: 0.9113\n",
      "Epoch [   72/  100] | d_loss: 1.3476 | g_loss: 0.9991\n",
      "Epoch [   73/  100] | d_loss: 1.2633 | g_loss: 0.9476\n",
      "Epoch [   73/  100] | d_loss: 1.2128 | g_loss: 1.0830\n",
      "Epoch [   73/  100] | d_loss: 1.3870 | g_loss: 1.1580\n",
      "Epoch [   74/  100] | d_loss: 1.3129 | g_loss: 0.9055\n",
      "Epoch [   74/  100] | d_loss: 1.3012 | g_loss: 0.9529\n",
      "Epoch [   74/  100] | d_loss: 1.4131 | g_loss: 1.0986\n",
      "Epoch [   75/  100] | d_loss: 1.2655 | g_loss: 0.9970\n",
      "Epoch [   75/  100] | d_loss: 1.2481 | g_loss: 1.0999\n",
      "Epoch [   75/  100] | d_loss: 1.3681 | g_loss: 0.9997\n",
      "Epoch [   76/  100] | d_loss: 1.3339 | g_loss: 1.0468\n",
      "Epoch [   76/  100] | d_loss: 1.2208 | g_loss: 0.9079\n",
      "Epoch [   76/  100] | d_loss: 1.3778 | g_loss: 0.9878\n",
      "Epoch [   77/  100] | d_loss: 1.2188 | g_loss: 1.0445\n",
      "Epoch [   77/  100] | d_loss: 1.2244 | g_loss: 1.2285\n",
      "Epoch [   77/  100] | d_loss: 1.2835 | g_loss: 1.0050\n",
      "Epoch [   78/  100] | d_loss: 1.2443 | g_loss: 0.9178\n",
      "Epoch [   78/  100] | d_loss: 1.3080 | g_loss: 1.4866\n",
      "Epoch [   78/  100] | d_loss: 1.2358 | g_loss: 1.0096\n",
      "Epoch [   79/  100] | d_loss: 1.1712 | g_loss: 1.5229\n",
      "Epoch [   79/  100] | d_loss: 1.1529 | g_loss: 1.0289\n",
      "Epoch [   79/  100] | d_loss: 1.2910 | g_loss: 1.0369\n",
      "Epoch [   80/  100] | d_loss: 1.2158 | g_loss: 1.0304\n",
      "Epoch [   80/  100] | d_loss: 1.2236 | g_loss: 1.0431\n",
      "Epoch [   80/  100] | d_loss: 1.2674 | g_loss: 1.2463\n",
      "Epoch [   81/  100] | d_loss: 1.3920 | g_loss: 1.3876\n",
      "Epoch [   81/  100] | d_loss: 1.2834 | g_loss: 0.8101\n",
      "Epoch [   81/  100] | d_loss: 1.3542 | g_loss: 1.1426\n",
      "Epoch [   82/  100] | d_loss: 1.2004 | g_loss: 1.4607\n",
      "Epoch [   82/  100] | d_loss: 1.2885 | g_loss: 1.3455\n",
      "Epoch [   82/  100] | d_loss: 1.4488 | g_loss: 0.9385\n",
      "Epoch [   83/  100] | d_loss: 1.3495 | g_loss: 1.0752\n",
      "Epoch [   83/  100] | d_loss: 1.2023 | g_loss: 1.5297\n",
      "Epoch [   83/  100] | d_loss: 1.3639 | g_loss: 1.1808\n",
      "Epoch [   84/  100] | d_loss: 1.1711 | g_loss: 1.3443\n",
      "Epoch [   84/  100] | d_loss: 1.3924 | g_loss: 1.3504\n",
      "Epoch [   84/  100] | d_loss: 1.3367 | g_loss: 1.1543\n",
      "Epoch [   85/  100] | d_loss: 1.2806 | g_loss: 1.3204\n",
      "Epoch [   85/  100] | d_loss: 1.1539 | g_loss: 1.1578\n",
      "Epoch [   85/  100] | d_loss: 1.2906 | g_loss: 1.1681\n",
      "Epoch [   86/  100] | d_loss: 1.2704 | g_loss: 1.0116\n",
      "Epoch [   86/  100] | d_loss: 1.2689 | g_loss: 1.2983\n",
      "Epoch [   86/  100] | d_loss: 1.2616 | g_loss: 1.1074\n",
      "Epoch [   87/  100] | d_loss: 1.2460 | g_loss: 2.3201\n",
      "Epoch [   87/  100] | d_loss: 1.1575 | g_loss: 1.2404\n",
      "Epoch [   87/  100] | d_loss: 1.2066 | g_loss: 1.1744\n",
      "Epoch [   88/  100] | d_loss: 1.2483 | g_loss: 1.1130\n",
      "Epoch [   88/  100] | d_loss: 1.1576 | g_loss: 1.2287\n",
      "Epoch [   88/  100] | d_loss: 1.2476 | g_loss: 1.2559\n",
      "Epoch [   89/  100] | d_loss: 1.2028 | g_loss: 1.4506\n",
      "Epoch [   89/  100] | d_loss: 1.2346 | g_loss: 1.2043\n",
      "Epoch [   89/  100] | d_loss: 1.3625 | g_loss: 0.8677\n",
      "Epoch [   90/  100] | d_loss: 1.2331 | g_loss: 0.8717\n",
      "Epoch [   90/  100] | d_loss: 1.2762 | g_loss: 1.0999\n",
      "Epoch [   90/  100] | d_loss: 1.2420 | g_loss: 1.2339\n",
      "Epoch [   91/  100] | d_loss: 1.1902 | g_loss: 1.2633\n",
      "Epoch [   91/  100] | d_loss: 1.1522 | g_loss: 1.1543\n",
      "Epoch [   91/  100] | d_loss: 1.4236 | g_loss: 1.1939\n",
      "Epoch [   92/  100] | d_loss: 1.3266 | g_loss: 1.0303\n",
      "Epoch [   92/  100] | d_loss: 1.1572 | g_loss: 0.9843\n",
      "Epoch [   92/  100] | d_loss: 1.4191 | g_loss: 0.8793\n",
      "Epoch [   93/  100] | d_loss: 1.1839 | g_loss: 1.3490\n",
      "Epoch [   93/  100] | d_loss: 1.3292 | g_loss: 1.1683\n",
      "Epoch [   93/  100] | d_loss: 1.3903 | g_loss: 1.0952\n",
      "Epoch [   94/  100] | d_loss: 1.1912 | g_loss: 1.1551\n",
      "Epoch [   94/  100] | d_loss: 1.2911 | g_loss: 1.3860\n",
      "Epoch [   94/  100] | d_loss: 1.3003 | g_loss: 1.1387\n",
      "Epoch [   95/  100] | d_loss: 1.4177 | g_loss: 1.2521\n",
      "Epoch [   95/  100] | d_loss: 1.2524 | g_loss: 0.8420\n",
      "Epoch [   95/  100] | d_loss: 1.3425 | g_loss: 0.9185\n",
      "Epoch [   96/  100] | d_loss: 1.2655 | g_loss: 0.8286\n",
      "Epoch [   96/  100] | d_loss: 1.1842 | g_loss: 1.0198\n",
      "Epoch [   96/  100] | d_loss: 1.2531 | g_loss: 1.0926\n",
      "Epoch [   97/  100] | d_loss: 1.2647 | g_loss: 1.3078\n",
      "Epoch [   97/  100] | d_loss: 1.1461 | g_loss: 1.1247\n",
      "Epoch [   97/  100] | d_loss: 1.3356 | g_loss: 0.9976\n",
      "Epoch [   98/  100] | d_loss: 1.2245 | g_loss: 1.4839\n",
      "Epoch [   98/  100] | d_loss: 1.2400 | g_loss: 1.0352\n",
      "Epoch [   98/  100] | d_loss: 1.3545 | g_loss: 1.3012\n",
      "Epoch [   99/  100] | d_loss: 1.3287 | g_loss: 1.0300\n",
      "Epoch [   99/  100] | d_loss: 1.2749 | g_loss: 1.1851\n",
      "Epoch [   99/  100] | d_loss: 1.3432 | g_loss: 1.3654\n",
      "Epoch [  100/  100] | d_loss: 1.2372 | g_loss: 1.0682\n",
      "Epoch [  100/  100] | d_loss: 1.1771 | g_loss: 0.9990\n",
      "Epoch [  100/  100] | d_loss: 1.2953 | g_loss: 1.1932\n"
     ]
    },
    {
     "name": "stderr",
     "output_type": "stream",
     "text": [
      "/home/shubham/anaconda3/envs/pytorch/lib/python3.8/site-packages/torch/storage.py:34: FutureWarning: pickle support for Storage will be removed in 1.5. Use `torch.save` instead\n",
      "  warnings.warn(\"pickle support for Storage will be removed in 1.5. Use `torch.save` instead\", FutureWarning)\n"
     ]
    }
   ],
   "source": [
    "import pickle as pkl\n",
    "\n",
    "# training hyperparams\n",
    "num_epochs = 100\n",
    "\n",
    "# keep track of loss and generated, \"fake\" samples\n",
    "samples = []\n",
    "losses = []\n",
    "\n",
    "print_every = 400\n",
    "\n",
    "# Get some fixed data for sampling. These are images that are held\n",
    "# constant throughout training, and allow us to inspect the model's performance\n",
    "sample_size=16\n",
    "fixed_z = np.random.uniform(-1, 1, size=(sample_size, z_size))\n",
    "fixed_z = torch.from_numpy(fixed_z).float()\n",
    "\n",
    "# train the network\n",
    "D.train()\n",
    "G.train()\n",
    "for epoch in range(num_epochs):\n",
    "    \n",
    "    for batch_i, (real_images, _) in enumerate(train_loader):\n",
    "                \n",
    "        batch_size = real_images.size(0)\n",
    "        \n",
    "        ## Important rescaling step ## \n",
    "        real_images = real_images*2 - 1  # rescale input images from [0,1) to [-1, 1)\n",
    "        \n",
    "        # ============================================\n",
    "        #            TRAIN THE DISCRIMINATOR\n",
    "        # ============================================\n",
    "        \n",
    "        d_optimizer.zero_grad()\n",
    "        \n",
    "        # 1. Train with real images\n",
    "\n",
    "        # Compute the discriminator losses on real images \n",
    "        # smooth the real labels\n",
    "        D_real = D(real_images)\n",
    "        d_real_loss = real_loss(D_real, smooth=True)\n",
    "        \n",
    "        # 2. Train with fake images\n",
    "        \n",
    "        # Generate fake images\n",
    "        z = np.random.uniform(-1, 1, size=(batch_size, z_size))\n",
    "        z = torch.from_numpy(z).float()\n",
    "        fake_images = G(z)\n",
    "        \n",
    "        # Compute the discriminator losses on fake images        \n",
    "        D_fake = D(fake_images)\n",
    "        d_fake_loss = fake_loss(D_fake)\n",
    "        \n",
    "        # add up loss and perform backprop\n",
    "        d_loss = d_real_loss + d_fake_loss\n",
    "        d_loss.backward()\n",
    "        d_optimizer.step()\n",
    "        \n",
    "        \n",
    "        # =========================================\n",
    "        #            TRAIN THE GENERATOR\n",
    "        # =========================================\n",
    "        g_optimizer.zero_grad()\n",
    "        \n",
    "        # 1. Train with fake images and flipped labels\n",
    "        \n",
    "        # Generate fake images\n",
    "        z = np.random.uniform(-1, 1, size=(batch_size, z_size))\n",
    "        z = torch.from_numpy(z).float()\n",
    "        fake_images = G(z)\n",
    "        \n",
    "        # Compute the discriminator losses on fake images \n",
    "        # using flipped labels!\n",
    "        D_fake = D(fake_images)\n",
    "        g_loss = real_loss(D_fake) # use real loss to flip labels\n",
    "        \n",
    "        # perform backprop\n",
    "        g_loss.backward()\n",
    "        g_optimizer.step()\n",
    "\n",
    "        # Print some loss stats\n",
    "        if batch_i % print_every == 0:\n",
    "            # print discriminator and generator loss\n",
    "            print('Epoch [{:5d}/{:5d}] | d_loss: {:6.4f} | g_loss: {:6.4f}'.format(\n",
    "                    epoch+1, num_epochs, d_loss.item(), g_loss.item()))\n",
    "\n",
    "    \n",
    "    ## AFTER EACH EPOCH##\n",
    "    # append discriminator loss and generator loss\n",
    "    losses.append((d_loss.item(), g_loss.item()))\n",
    "    \n",
    "    # generate and save sample, fake images\n",
    "    G.eval() # eval mode for generating samples\n",
    "    samples_z = G(fixed_z)\n",
    "    samples.append(samples_z)\n",
    "    G.train() # back to train mode\n",
    "\n",
    "\n",
    "# Save training generator samples\n",
    "with open('train_samples.pkl', 'wb') as f:\n",
    "    pkl.dump(samples, f)"
   ]
  },
  {
   "cell_type": "markdown",
   "metadata": {},
   "source": [
    "## Training loss\n",
    "\n",
    "Here we'll plot the training losses for the generator and discriminator, recorded after each epoch."
   ]
  },
  {
   "cell_type": "code",
   "execution_count": 11,
   "metadata": {},
   "outputs": [
    {
     "data": {
      "text/plain": [
       "<matplotlib.legend.Legend at 0x7f66084dfe50>"
      ]
     },
     "execution_count": 11,
     "metadata": {},
     "output_type": "execute_result"
    },
    {
     "data": {
      "image/png": "[encoded data removed]",
      "text/plain": [
       "<Figure size 432x288 with 1 Axes>"
      ]
     },
     "metadata": {
      "needs_background": "light"
     },
     "output_type": "display_data"
    }
   ],
   "source": [
    "fig, ax = plt.subplots()\n",
    "losses = np.array(losses)\n",
    "plt.plot(losses.T[0], label='Discriminator')\n",
    "plt.plot(losses.T[1], label='Generator')\n",
    "plt.title(\"Training Losses\")\n",
    "plt.legend()"
   ]
  },
  {
   "cell_type": "markdown",
   "metadata": {},
   "source": [
    "## Generator samples from training\n",
    "\n",
    "Here we can view samples of images from the generator. First we'll look at the images we saved during training."
   ]
  },
  {
   "cell_type": "code",
   "execution_count": 12,
   "metadata": {},
   "outputs": [],
   "source": [
    "# helper function for viewing a list of passed in sample images\n",
    "def view_samples(epoch, samples):\n",
    "    fig, axes = plt.subplots(figsize=(7,7), nrows=4, ncols=4, sharey=True, sharex=True)\n",
    "    for ax, img in zip(axes.flatten(), samples[epoch]):\n",
    "        img = img.detach()\n",
    "        ax.xaxis.set_visible(False)\n",
    "        ax.yaxis.set_visible(False)\n",
    "        im = ax.imshow(img.reshape((28,28)), cmap='Greys_r')"
   ]
  },
  {
   "cell_type": "code",
   "execution_count": 13,
   "metadata": {},
   "outputs": [],
   "source": [
    "# Load samples from generator, taken while training\n",
    "with open('train_samples.pkl', 'rb') as f:\n",
    "    samples = pkl.load(f)"
   ]
  },
  {
   "cell_type": "markdown",
   "metadata": {},
   "source": [
    "These are samples from the final training epoch. You can see the generator is able to reproduce numbers like 1, 7, 3, 2. Since this is just a sample, it isn't representative of the full range of images this generator can make."
   ]
  },
  {
   "cell_type": "code",
   "execution_count": 14,
   "metadata": {},
   "outputs": [
    {
     "data": {
      "image/png": "[encoded data removed]",
      "text/plain": [
       "<Figure size 504x504 with 16 Axes>"
      ]
     },
     "metadata": {
      "needs_background": "light"
     },
     "output_type": "display_data"
    }
   ],
   "source": [
    "# -1 indicates final epoch's samples (the last in the list)\n",
    "view_samples(-1, samples)"
   ]
  },
  {
   "cell_type": "markdown",
   "metadata": {},
   "source": [
    "Below I'm showing the generated images as the network was training, every 10 epochs."
   ]
  },
  {
   "cell_type": "code",
   "execution_count": 15,
   "metadata": {},
   "outputs": [
    {
     "data": {
      "image/png": "[encoded data removed]",
      "text/plain": [
       "<Figure size 504x864 with 60 Axes>"
      ]
     },
     "metadata": {
      "needs_background": "light"
     },
     "output_type": "display_data"
    }
   ],
   "source": [
    "rows = 10 # split epochs into 10, so 100/10 = every 10 epochs\n",
    "cols = 6\n",
    "fig, axes = plt.subplots(figsize=(7,12), nrows=rows, ncols=cols, sharex=True, sharey=True)\n",
    "\n",
    "for sample, ax_row in zip(samples[::int(len(samples)/rows)], axes):\n",
    "    for img, ax in zip(sample[::int(len(sample)/cols)], ax_row):\n",
    "        img = img.detach()\n",
    "        ax.imshow(img.reshape((28,28)), cmap='Greys_r')\n",
    "        ax.xaxis.set_visible(False)\n",
    "        ax.yaxis.set_visible(False)"
   ]
  },
  {
   "cell_type": "markdown",
   "metadata": {},
   "source": [
    "It starts out as all noise. Then it learns to make only the center white and the rest black. You can start to see some number like structures appear out of the noise like 1s and 9s."
   ]
  },
  {
   "cell_type": "markdown",
   "metadata": {},
   "source": [
    "## Sampling from the generator\n",
    "\n",
    "We can also get completely new images from the generator by using the checkpoint we saved after training. **We just need to pass in a new latent vector $z$ and we'll get new samples**!"
   ]
  },
  {
   "cell_type": "code",
   "execution_count": 16,
   "metadata": {},
   "outputs": [
    {
     "name": "stderr",
     "output_type": "stream",
     "text": [
      "/home/shubham/anaconda3/envs/pytorch/lib/python3.8/site-packages/torch/nn/functional.py:1558: UserWarning: nn.functional.tanh is deprecated. Use torch.tanh instead.\n",
      "  warnings.warn(\"nn.functional.tanh is deprecated. Use torch.tanh instead.\")\n"
     ]
    },
    {
     "data": {
      "image/png": "[encoded data removed]",
      "text/plain": [
       "<Figure size 504x504 with 16 Axes>"
      ]
     },
     "metadata": {
      "needs_background": "light"
     },
     "output_type": "display_data"
    }
   ],
   "source": [
    "# randomly generated, new latent vectors\n",
    "sample_size=16\n",
    "rand_z = np.random.uniform(-1, 1, size=(sample_size, z_size))\n",
    "rand_z = torch.from_numpy(rand_z).float()\n",
    "\n",
    "G.eval() # eval mode\n",
    "# generated samples\n",
    "rand_images = G(rand_z)\n",
    "\n",
    "# 0 indicates the first set of samples in the passed in list\n",
    "# and we only have one batch of samples, here\n",
    "view_samples(0, [rand_images])"
   ]
  },
  {
   "cell_type": "code",
   "execution_count": null,
   "metadata": {},
   "outputs": [],
   "source": []
  },
  {
   "cell_type": "code",
   "execution_count": null,
   "metadata": {},
   "outputs": [],
   "source": []
  },
  {
   "cell_type": "code",
   "execution_count": null,
   "metadata": {},
   "outputs": [],
   "source": []
  },
  {
   "cell_type": "code",
   "execution_count": null,
   "metadata": {},
   "outputs": [],
   "source": []
  },
  {
   "cell_type": "code",
   "execution_count": null,
   "metadata": {},
   "outputs": [],
   "source": []
  }
 ],
 "metadata": {
  "kernelspec": {
   "display_name": "Python 3",
   "language": "python",
   "name": "python3"
  },
  "language_info": {
   "codemirror_mode": {
    "name": "ipython",
    "version": 3
   },
   "file_extension": ".py",
   "mimetype": "text/x-python",
   "name": "python",
   "nbconvert_exporter": "python",
   "pygments_lexer": "ipython3",
   "version": "3.8.2"
  }
 },
 "nbformat": 4,
 "nbformat_minor": 2
}
